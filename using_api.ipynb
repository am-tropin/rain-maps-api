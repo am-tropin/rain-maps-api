{
 "cells": [
  {
   "cell_type": "code",
   "execution_count": null,
   "id": "5f633564",
   "metadata": {},
   "outputs": [],
   "source": []
  },
  {
   "cell_type": "code",
   "execution_count": 1,
   "id": "796a08b6",
   "metadata": {},
   "outputs": [],
   "source": [
    "import requests"
   ]
  },
  {
   "cell_type": "code",
   "execution_count": null,
   "id": "9e8bdd33",
   "metadata": {},
   "outputs": [],
   "source": []
  },
  {
   "cell_type": "code",
   "execution_count": null,
   "id": "cf577c9c",
   "metadata": {},
   "outputs": [],
   "source": [
    "# https://github.com/public-apis/public-apis#transportation"
   ]
  },
  {
   "cell_type": "code",
   "execution_count": null,
   "id": "65236c77",
   "metadata": {},
   "outputs": [],
   "source": []
  },
  {
   "cell_type": "code",
   "execution_count": null,
   "id": "8b211a8e",
   "metadata": {},
   "outputs": [],
   "source": [
    "# Transport for Germany\n",
    "# https://data.deutschebahn.com/dataset/api-fahrplan/resource/fb76266a-cb36-4604-b9eb-61e982a62a29.html\n"
   ]
  },
  {
   "cell_type": "code",
   "execution_count": 14,
   "id": "303a40c9",
   "metadata": {},
   "outputs": [],
   "source": [
    "url = \"https://developer.deutschebahn.com/store/apis/info?name=Fahrplan-Free&version=v1&provider=DBOpenData\""
   ]
  },
  {
   "cell_type": "code",
   "execution_count": 15,
   "id": "0cb4a160",
   "metadata": {},
   "outputs": [],
   "source": [
    "response = requests.get(url)"
   ]
  },
  {
   "cell_type": "code",
   "execution_count": 6,
   "id": "efcdd12e",
   "metadata": {},
   "outputs": [
    {
     "data": {
      "text/plain": [
       "200"
      ]
     },
     "execution_count": 6,
     "metadata": {},
     "output_type": "execute_result"
    }
   ],
   "source": [
    "response.status_code"
   ]
  },
  {
   "cell_type": "code",
   "execution_count": 7,
   "id": "78a28afd",
   "metadata": {},
   "outputs": [
    {
     "data": {
      "text/plain": [
       "'<!DOCTYPE html>\\n<html  lang=\"de\" dir=\"ltr\" prefix=\"content: http://purl.org/rss/1.0/modules/content/  dc: http://purl.org/dc/terms/  foaf: http://xmlns.com/foaf/0.1/  og: http://ogp.me/ns#  rdfs: http://www.w3.org/2000/01/rdf-schema#  schema: http://schema.org/  sioc: http://rdfs.org/sioc/ns#  sioct: http://rdfs.org/sioc/types#  skos: http://www.w3.org/2004/02/skos/core#  xsd: http://www.w3.org/2001/XMLSchema# \">\\n<head>\\n  <meta charset=\"utf-8\" />\\n<link rel=\"canonical\" href=\"https://developers.deutschebahn.com/db-api-marketplace/apis/frontpage\" />\\n<meta name=\"description\" content=\"DB API Marketplace\" />\\n<meta name=\"MobileOptimized\" content=\"width\" />\\n<meta name=\"HandheldFriendly\" content=\"true\" />\\n<meta name=\"viewport\" content=\"width=device-width, initial-scale=1.0\" />\\n<link rel=\"icon\" href=\"https://developers.deutschebahn.com/db-api-marketplace/apis/sites/db-api-marketplace.apis.developers.deutschebahn.com/themes/dbopenapi_theme/favicon.ico\" type=\"image/vnd.microsoft.icon\" />\\n<link rel=\"alternate\" hreflang=\"en\" href=\"https://developers.deutschebahn.com/db-api-marketplace/apis/frontpage\" />\\n<link rel=\"alternate\" hreflang=\"de\" href=\"https://developers.deutschebahn.com/db-api-marketplace/apis/frontpage\" />\\n\\n    <title>DB API Marketplace | DB API Marketplace</title>\\n    <link rel=\"stylesheet\" media=\"all\" href=\"https://developers.deutschebahn.com/db-api-marketplace/apis/sites/db-api-marketplace.apis.developers.deutschebahn.com/files/css/css_trwzrxsT0ZYfugTaNojdRXe3NvELraml8twgdaXhoM0.css\" />\\n<link rel=\"stylesheet\" media=\"all\" href=\"https://developers.deutschebahn.com/db-api-marketplace/apis/sites/db-api-marketplace.apis.developers.deutschebahn.com/files/css/css_l2O8x9nMneMg6tTVNtuwX8i2MR00VurEMZs5Wx2zZFM.css\" />\\n\\n      \\n        </head>\\n<body class=\"context--frontpage user-registry-oidc route-entitynodecanonical ur-count-2 role-anonymous path-node context-frontpage page-node-type-page has-glyphicons bx--global-light-ui\" aria-label=\"Body\">\\n<div class=\"visually-hidden\" role=\"complementary\" aria-label=\"Zum Hauptinhalt springen\">\\n  <a href=\"#main-content\" class=\"visually-hidden focusable skip-link\">\\n    Zum Hauptinhalt springen\\n  </a>\\n</div>\\n\\n  <div class=\"dialog-off-canvas-main-canvas\" data-off-canvas-main-canvas>\\n    \\n          <header class=\"apicStickyHeader section-header\">\\n                                                  <div  class=\"row navbar navbar-default container\" id=\"navbar\">\\n                              <div class=\"navbar-header col-md-8 col-sm-8 col-xs-3\">\\n                    <div class=\"region region-navigation\" aria-label=\"navigation\">\\n          <a class=\"icon-db-marke pic-container\" href=\"/db-api-marketplace/apis/\" title=\"Home\" rel=\"home\"></a>\\n    <a class=\"textzusatz pic-container\" href=\"/db-api-marketplace/apis/\" title=\"Home\" rel=\"home\"></a>\\n    <a class=\"icon-environment pic-container\" href=\"/db-api-marketplace/apis/\" title=\"Home\" rel=\"home\"></a>\\n    <button type=\"button\" class=\"navbar-toggle\" data-toggle=\"collapse\" data-target=\"#navbar-collapse\">\\n      <span class=\"sr-only\">Navigation ein-/ausschalten</span>\\n      <span class=\"icon-bar\"></span>\\n      <span class=\"icon-bar\"></span>\\n      <span class=\"icon-bar\"></span>\\n    </button>\\n      <nav role=\"navigation\" aria-labelledby=\"block-dbnavigation-menu\" id=\"block-dbnavigation\" class=\"block-db-navigation\">\\n            \\n  <h2 class=\"visually-hidden\" id=\"block-dbnavigation-menu\">DB navigation</h2>\\n  \\n\\n        \\n      <ul class=\"menu menu--db-navigation nav\">\\n                      <li class=\"first\">\\n                                        <a href=\"/db-api-marketplace/apis/product\" data-drupal-link-system-path=\"product\">Katalog</a>\\n              </li>\\n                      <li class=\"last\">\\n                                        <a href=\"/db-api-marketplace/apis/news\" data-drupal-link-system-path=\"news\">Neuigkeiten</a>\\n              </li>\\n        </ul>\\n  \\n\\n  </nav>\\n\\n  </div>\\n\\n                </div>\\n                <div class=\"navbar-right col-md-4 col-sm-4 col-xs-9\">\\n                    <div class=\"region region-navigation-right\" aria-label=\"navigation_right\">\\n    <nav role=\"navigation\" aria-labelledby=\"block-dbopenapi-theme-login-menu\" id=\"block-dbopenapi-theme-login\" class=\"block-login\">\\n            \\n  <h2 class=\"visually-hidden\" id=\"block-dbopenapi-theme-login-menu\">Anmelden</h2>\\n  \\n\\n        \\n      <ul class=\"menu menu--login nav\">\\n                      <li class=\"first last\">\\n                                        <a href=\"/db-api-marketplace/apis/user/login\" title=\"Bei Ihrem Account anmelden\" data-drupal-link-system-path=\"user/login\">Anmelden</a>\\n              </li>\\n        </ul>\\n  \\n\\n  </nav>\\n<section id=\"block-dbopenapi-theme-searchiconblock\" class=\"block block-ibm-apim block-search-icon-block block-ibm-apim-search-icon clearfix\" aria-label=\"Search Icon Block\">\\n  \\n    \\n\\n      \\n<div class=\"ibmapimSearch\" role=\"search\" aria-label=\"Diese Site durchsuchen\">\\n    <div class=\"imageContainer\">\\n        <a title=\"Diese Site durchsuchen\" href=\"/db-api-marketplace/apis/search/global\">\\n           <div class=\"magnifier pic-container\">\\n\\t\\t\\t\\t<svg\\n\\t\\t\\t\\t   xmlns:dc=\"http://purl.org/dc/elements/1.1/\"\\n\\t\\t\\t\\t   xmlns:cc=\"http://creativecommons.org/ns#\"\\n\\t\\t\\t\\t   xmlns:rdf=\"http://www.w3.org/1999/02/22-rdf-syntax-ns#\"\\n\\t\\t\\t\\t   xmlns:svg=\"http://www.w3.org/2000/svg\"\\n\\t\\t\\t\\t   xmlns=\"http://www.w3.org/2000/svg\"\\n\\t\\t\\t\\t   xmlns:sodipodi=\"http://sodipodi.sourceforge.net/DTD/sodipodi-0.dtd\"\\n\\t\\t\\t\\t   xmlns:inkscape=\"http://www.inkscape.org/namespaces/inkscape\"\\n\\t\\t\\t\\t   width=\"40mm\"\\n\\t\\t\\t\\t   height=\"40mm\"\\n\\t\\t\\t\\t   viewBox=\"0 0 40 40\"\\n\\t\\t\\t\\t   version=\"1.1\"\\n\\t\\t\\t\\t   id=\"svg4566\"\\n\\t\\t\\t\\t   inkscape:version=\"0.92.3 (2405546, 2018-03-11)\"\\n\\t\\t\\t\\t   sodipodi:docname=\"icon_magnifier.svg\">\\n\\t\\t\\t\\t  <defs\\n\\t\\t\\t\\t\\t id=\"defs4560\" />\\n\\t\\t\\t\\t  <sodipodi:namedview\\n\\t\\t\\t\\t\\t id=\"base\"\\n\\t\\t\\t\\t\\t pagecolor=\"#ffffff\"\\n\\t\\t\\t\\t\\t bordercolor=\"#666666\"\\n\\t\\t\\t\\t\\t borderopacity=\"1.0\"\\n\\t\\t\\t\\t\\t inkscape:pageopacity=\"0.0\"\\n\\t\\t\\t\\t\\t inkscape:pageshadow=\"2\"\\n\\t\\t\\t\\t\\t inkscape:zoom=\"2.8\"\\n\\t\\t\\t\\t\\t inkscape:cx=\"-44.981834\"\\n\\t\\t\\t\\t\\t inkscape:cy=\"59.264688\"\\n\\t\\t\\t\\t\\t inkscape:document-units=\"mm\"\\n\\t\\t\\t\\t\\t inkscape:current-layer=\"layer1\"\\n\\t\\t\\t\\t\\t showgrid=\"false\"\\n\\t\\t\\t\\t\\t inkscape:window-width=\"1920\"\\n\\t\\t\\t\\t\\t inkscape:window-height=\"1001\"\\n\\t\\t\\t\\t\\t inkscape:window-x=\"-9\"\\n\\t\\t\\t\\t\\t inkscape:window-y=\"-9\"\\n\\t\\t\\t\\t\\t inkscape:window-maximized=\"1\" />\\n\\t\\t\\t\\t  <metadata\\n\\t\\t\\t\\t\\t id=\"metadata4563\">\\n\\t\\t\\t\\t\\t<rdf:RDF>\\n\\t\\t\\t\\t\\t  <cc:Work\\n\\t\\t\\t\\t\\t\\t rdf:about=\"\">\\n\\t\\t\\t\\t\\t\\t<dc:format>image/svg+xml</dc:format>\\n\\t\\t\\t\\t\\t\\t<dc:type\\n\\t\\t\\t\\t\\t\\t   rdf:resource=\"http://purl.org/dc/dcmitype/StillImage\" />\\n\\t\\t\\t\\t\\t\\t<dc:title></dc:title>\\n\\t\\t\\t\\t\\t  </cc:Work>\\n\\t\\t\\t\\t\\t</rdf:RDF>\\n\\t\\t\\t\\t  </metadata>\\n\\t\\t\\t\\t  <g\\n\\t\\t\\t\\t\\t inkscape:label=\"Ebene 1\"\\n\\t\\t\\t\\t\\t inkscape:groupmode=\"layer\"\\n\\t\\t\\t\\t\\t id=\"layer1\"\\n\\t\\t\\t\\t\\t transform=\"translate(0,-257)\">\\n\\t\\t\\t\\t\\t<path\\n\\t\\t\\t\\t\\t   style=\"fill:none;fill-opacity:0.92941176;fill-rule:evenodd;stroke:#636872;stroke-width:1.5;stroke-linecap:butt;stroke-linejoin:round;stroke-miterlimit:4;stroke-dasharray:none;stroke-opacity:0.92941176;paint-order:normal\"\\n\\t\\t\\t\\t\\t   id=\"path4528\"\\n\\t\\t\\t\\t\\t   sodipodi:type=\"arc\"\\n\\t\\t\\t\\t\\t   sodipodi:cx=\"14.842511\"\\n\\t\\t\\t\\t\\t   sodipodi:cy=\"271.54733\"\\n\\t\\t\\t\\t\\t   sodipodi:rx=\"13.642152\"\\n\\t\\t\\t\\t\\t   sodipodi:ry=\"13.519195\"\\n\\t\\t\\t\\t\\t   sodipodi:start=\"6.2703746\"\\n\\t\\t\\t\\t\\t   sodipodi:end=\"6.2688562\"\\n\\t\\t\\t\\t\\t   sodipodi:open=\"true\"\\n\\t\\t\\t\\t\\t   d=\"M 28.483544,271.37415 A 13.642152,13.519195 0 0 1 15.02245,285.06535 13.642152,13.519195 0 0 1 1.2016154,271.73078 13.642152,13.519195 0 0 1 14.652216,258.02945 13.642152,13.519195 0 0 1 28.483263,271.35362\" />\\n\\t\\t\\t\\t\\t<rect\\n\\t\\t\\t\\t\\t   style=\"fill:none;fill-opacity:0.92941176;fill-rule:evenodd;stroke:#636872;stroke-width:1.5;stroke-linecap:butt;stroke-linejoin:round;stroke-miterlimit:4;stroke-dasharray:none;stroke-opacity:0.92941176;paint-order:normal\"\\n\\t\\t\\t\\t\\t   id=\"rect4548\"\\n\\t\\t\\t\\t\\t   width=\"0.27983931\"\\n\\t\\t\\t\\t\\t   height=\"20.1497\"\\n\\t\\t\\t\\t\\t   x=\"-185.54372\"\\n\\t\\t\\t\\t\\t   y=\"219.32826\"\\n\\t\\t\\t\\t\\t   transform=\"matrix(0.71592047,-0.69818184,0.71752653,0.69653117,0,0)\" />\\n\\t\\t\\t\\t  </g>\\n\\t\\t\\t\\t</svg>\\n\\t\\t\\t</div>\\n        </a>\\n    </div>\\n</div>\\n\\n  </section>\\n\\n\\n  </div>\\n\\n                </div>\\n\\n                            </div>\\n                  \\n      </header>\\n    \\n\\n\\n  <div role=\"main\" class=\"apicMainContent main-container container js-quickedit-main-content\">\\n    <div class=\"row\">\\n\\n            \\n            \\n                  <section class=\"col-sm-12\" aria-label=\"Hauptinhalt\">\\n\\n                                      <div class=\"highlighted\">  <div class=\"region region-highlighted\" aria-label=\"highlighted\">\\n    <div data-drupal-messages-fallback class=\"hidden\"></div>\\n\\n  </div>\\n</div>\\n                  \\n                \\n                \\n                \\n                          <a id=\"main-content\"></a>\\n            <div class=\"region region-content\" aria-label=\"content\">\\n      <article data-history-node-id=\"57172\" role=\"article\" about=\"/db-api-marketplace/apis/frontpage\" typeof=\"schema:WebPage\" aria-labelledby=\"page-node-title\" class=\"page full clearfix\">\\n\\n  \\n      <span property=\"schema:name\" content=\"DB API Marketplace\" class=\"hidden\"></span>\\n\\n\\n  \\n  <div class=\"content\">\\n    \\n            <div property=\"schema:text\" class=\"field field--name-body field--type-text-with-summary field--label-hidden field--item\"><!-- WILLKOMMENSBANNER -->\\n<section class=\"contextual-region block block-block-content block-welcome-banner-visible block-block-content6abb7098-ddf9-4173-b6a8-df7eebff1efa clearfix col-sm-12\"><div class=\"welcomebanner\">\\n    <div class=\"db-api-portal-logo\">\\n      <h1 id=\"headerImageText\">DB API Marketplace</h1>\\n    </div>\\n  </div>\\n</section><!-- GO AHEAD --><section class=\"contextual-region block block-block-content block-go-ahead-visible block-block-content0187eb79-9060-48d3-9abd-5d2192ca3938 clearfix col-sm-12\"><div class=\"field field--name-body field--type-text-with-summary field--label-hidden field--item quickedit-field\">\\n    <div class=\"goahead\">\\n      <div class=\"goaheadtext\">\\n        <h3>Mit den APIs der Deutschen Bahn neue Lösungen für die Mobilität von morgen entwickeln!</h3>\\n      </div>\\n    </div>\\n  </div>\\n</section><!-- GETTING STARTED --><section class=\"contextual-region block block-block-content block-getting-started-visible block-block-content76bebd59-424a-4d92-a025-7242add96ba7 clearfix col-sm-12\"><div class=\"field field--name-body field--type-text-with-summary field--label-hidden field--item quickedit-field\">\\n    <div class=\"startguide container\">\\n      <div class=\"row\">\\n        <div class=\"gsstep service-ecosystem col-sm-3 col-xs-12\">\\n          <div class=\"placeholder\">\\xa0</div>\\n          <h3>API-Katalog</h3>\\n          <p>Verschaffe Dir durch den API-Katalog einen Überblick über die vorhandenen APIs.</p>\\n        </div>\\n        <div class=\"hidden-sm-up col-xs-12\">\\n          <a class=\"button einfuehrung-button\" href=\"product\">API-Katalog</a>\\n        </div>\\n        <div class=\"col-sm-1 hidden-sm-down\"></div>\\n        <div class=\"gsstep getting-started col-sm-3 col-xs-12\">\\n          <div class=\"placeholder\">\\xa0</div>\\n          <h3>Getting started</h3>\\n          <p>Hier erfährst Du, wie Du in wenigen Schritten zu einem erfolgreichen API-Aufruf kommst.</p>\\n        </div>\\n        <div class=\"hidden-sm-up col-xs-12\">\\n          <a class=\"button einfuehrung-button\" href=\"start\">Los geht\\'s!</a>\\n        </div>\\n        <div class=\"col-sm-1 col-xs-0\"></div>\\n        <div class=\"gsstep strategy col-sm-3 col-xs-12\">\\n          <div class=\"placeholder\">\\xa0</div>\\n          <h3>DB API Marketplace</h3>\\n          <p>Erfahre hier mehr über das Portal und unsere Motivation.</p>\\n        </div>\\n        <div class=\"hidden-sm-up col-xs-12\">\\n          <a class=\"button einfuehrung-button\" href=\"marketplace\">Zur Strategie</a>\\n        </div>\\n      </div>\\n      <div class=\"row\">\\n        <div class=\"col-sm-4 hidden-sm-down\">\\n          <a class=\"button einfuehrung-button\" href=\"product\">API-Katalog</a>\\n        </div>\\n        <div class=\"col-sm-4 hidden-sm-down\">\\n          <a class=\"button einfuehrung-button\" href=\"start\">Los geht\\'s!</a>\\n        </div>\\n        <div class=\"col-sm-4 hidden-sm-down\">\\n          <a class=\"button einfuehrung-button\" href=\"marketplace\">Über das Portal</a>\\n        </div>\\n      </div>\\n    </div>\\n  </div>\\n</section></div>\\n      \\n  </div>\\n\\n</article>\\n\\n<section class=\"views-element-container block block-views block- block-views-blockneueste-services-block-1 clearfix\" id=\"block-views-block-neueste-services-block-1\" aria-label=\"Neueste APIs\">\\n  \\n      <h2 class=\"block-title\">Neueste APIs</h2>\\n    \\n\\n      <div class=\"form-group\"><div class=\"view view-neueste-services view-id-neueste_services view-display-id-block_1 js-view-dom-id-c6b9e36d1e25f3c9c8d72e136d3b8e372a75e7b626506cd1759bcc99b3ca6a92\">\\n  \\n    \\n      \\n      <div class=\"view-content\">\\n      <div data-drupal-masonry-layout class=\"masonry-layout-neueste-services form-group\">\\n\\n    <div class=\"masonry-item views-row\">\\n    <article id=\"node-1342\"  data-history-node-id=\"1342\" role=\"article\" lang=\"en\" about=\"/db-api-marketplace/apis/node/1342\" aria-labelledby=\"node-1342-title\" class=\"node node--id-1342 node--type-product node--view-mode-teaser productnodeid-1342 producttitle-fasta---station-facilities-status productversion-21359 productstate-\" aria-label=\"FaSta - Station Facilities Status\">\\n          <div class=\"apicProductTeaser\">\\n          <div class=\"apicTeaserIcon product-picture-small-neutral\">\\n      </div>\\n    \\n    <div class=\"apicProductTeaserTags\"></div>\\n\\n    <div class=\"apicProductTeaserMain\">\\n      <div class=\"bx--about__title--name\" data-toggle=\"tooltip\" data-placement=\"bottom\"\\n           title=\"FaSta - Station Facilities Status\">\\n        <a href=\"/db-api-marketplace/apis/product/fasta\" rel=\"bookmark\">\\n          <span id=\"node-1342-title\" class=\"apicProductName apicTruncate\">\\n<span>FaSta - Station Facilities Status</span>\\n</span>\\n        </a>\\n                  <div class=\"apicProductTeaserVersion\">\\n            <div class=\"field field--name-apic-version field--type-string field--label-hidden field--item\">2.1.359</div>\\n      </div>\\n              </div>\\n          </div>\\n          <div class=\"apicProductDesc summary\"\\n           title=\"A RESTful webservice to retrieve data about the operational state of public elevators and escalators in german railway stations operated by DB Station&amp;Service AG.\">\\n  <div class=\"field field--name-apic-summary field--type-string-long field--label-above\">\\n    <div class=\"field--label\">Zusammenfassung</div>\\n              <div class=\"field--item\">A RESTful webservice to retrieve data about the operational state of public elevators and escalators in german railway stations operated by DB Station&amp;Service AG.</div>\\n          </div>\\n</div>\\n          </div>\\n</article>\\n\\n  </div>\\n    <div class=\"masonry-item views-row\">\\n    <article id=\"node-26497\"  data-history-node-id=\"26497\" role=\"article\" lang=\"en\" about=\"/db-api-marketplace/apis/node/26497\" aria-labelledby=\"node-26497-title\" class=\"node node--id-26497 node--type-product node--view-mode-teaser productnodeid-26497 producttitle-timetables productversion-10213 productstate-\" aria-label=\"Timetables\">\\n          <div class=\"apicProductTeaser\">\\n          <div class=\"apicTeaserIcon product-picture-small-neutral\">\\n      </div>\\n    \\n    <div class=\"apicProductTeaserTags\"></div>\\n\\n    <div class=\"apicProductTeaserMain\">\\n      <div class=\"bx--about__title--name\" data-toggle=\"tooltip\" data-placement=\"bottom\"\\n           title=\"Timetables\">\\n        <a href=\"/db-api-marketplace/apis/product/timetables\" rel=\"bookmark\">\\n          <span id=\"node-26497-title\" class=\"apicProductName apicTruncate\">\\n<span>Timetables</span>\\n</span>\\n        </a>\\n                  <div class=\"apicProductTeaserVersion\">\\n            <div class=\"field field--name-apic-version field--type-string field--label-hidden field--item\">1.0.213</div>\\n      </div>\\n              </div>\\n          </div>\\n          <div class=\"apicProductDesc summary\"\\n           title=\"Der Service liefert Informationen zu Ankünften und Abfahrten in Form von Gleistafeln und Informationen zu einer Fahrt eines Zuges.\">\\n  <div class=\"field field--name-apic-summary field--type-string-long field--label-above\">\\n    <div class=\"field--label\">Zusammenfassung</div>\\n              <div class=\"field--item\">Der Service liefert Informationen zu Ankünften und Abfahrten in Form von Gleistafeln und Informationen zu einer Fahrt eines Zuges.</div>\\n          </div>\\n</div>\\n          </div>\\n</article>\\n\\n  </div>\\n    <div class=\"masonry-item views-row\">\\n    <article id=\"node-53599\"  data-history-node-id=\"53599\" role=\"article\" lang=\"en\" about=\"/db-api-marketplace/apis/node/53599\" aria-labelledby=\"node-53599-title\" class=\"node node--id-53599 node--type-product node--view-mode-teaser productnodeid-53599 producttitle-stada---station-data productversion-27421 productstate-\" aria-label=\"StaDa - Station Data\">\\n          <div class=\"apicProductTeaser\">\\n          <div class=\"apicTeaserIcon product-picture-small-neutral\">\\n      </div>\\n    \\n    <div class=\"apicProductTeaserTags\"></div>\\n\\n    <div class=\"apicProductTeaserMain\">\\n      <div class=\"bx--about__title--name\" data-toggle=\"tooltip\" data-placement=\"bottom\"\\n           title=\"StaDa - Station Data\">\\n        <a href=\"/db-api-marketplace/apis/product/stada\" rel=\"bookmark\">\\n          <span id=\"node-53599-title\" class=\"apicProductName apicTruncate\">\\n<span>StaDa - Station Data</span>\\n</span>\\n        </a>\\n                  <div class=\"apicProductTeaserVersion\">\\n            <div class=\"field field--name-apic-version field--type-string field--label-hidden field--item\">2.7.421</div>\\n      </div>\\n              </div>\\n          </div>\\n          <div class=\"apicProductDesc summary\"\\n           title=\"Der Service liefert Informationen - wie Parkmöglichkeiten, Barrierefreiheit oder Öffnungszeiten - von Bahnhöfen der Deutschen Bahn.\">\\n  <div class=\"field field--name-apic-summary field--type-string-long field--label-above\">\\n    <div class=\"field--label\">Zusammenfassung</div>\\n              <div class=\"field--item\">Der Service liefert Informationen - wie Parkmöglichkeiten, Barrierefreiheit oder Öffnungszeiten - von Bahnhöfen der Deutschen Bahn.</div>\\n          </div>\\n</div>\\n          </div>\\n</article>\\n\\n  </div>\\n    <div class=\"masonry-item views-row\">\\n    <article id=\"node-55144\"  data-history-node-id=\"55144\" role=\"article\" lang=\"en\" about=\"/db-api-marketplace/apis/node/55144\" aria-labelledby=\"node-55144-title\" class=\"node node--id-55144 node--type-product node--view-mode-teaser productnodeid-55144 producttitle-parking-information-service---db-bahnpark productversion-21666 productstate-\" aria-label=\"Parking Information Service - DB Bahnpark\">\\n          <div class=\"apicProductTeaser\">\\n          <div class=\"apicTeaserIcon product-picture-small-neutral\">\\n      </div>\\n    \\n    <div class=\"apicProductTeaserTags\"></div>\\n\\n    <div class=\"apicProductTeaserMain\">\\n      <div class=\"bx--about__title--name\" data-toggle=\"tooltip\" data-placement=\"bottom\"\\n           title=\"Parking Information Service - DB Bahnpark\">\\n        <a href=\"/db-api-marketplace/apis/product/parking-information-db-bahnpark\" rel=\"bookmark\">\\n          <span id=\"node-55144-title\" class=\"apicProductName apicTruncate\">\\n<span>Parking Information Service - DB Bahnpark</span>\\n</span>\\n        </a>\\n                  <div class=\"apicProductTeaserVersion\">\\n            <div class=\"field field--name-apic-version field--type-string field--label-hidden field--item\">2.1.666</div>\\n      </div>\\n              </div>\\n          </div>\\n          <div class=\"apicProductDesc summary\"\\n           title=\"Der Service liefert Informationen zu Parkräumen in Deutschland in Bahnhofsnähe überwiegend von DB Bahnpark.\">\\n  <div class=\"field field--name-apic-summary field--type-string-long field--label-above\">\\n    <div class=\"field--label\">Zusammenfassung</div>\\n              <div class=\"field--item\">Der Service liefert Informationen zu Parkräumen in Deutschland in Bahnhofsnähe überwiegend von DB Bahnpark.</div>\\n          </div>\\n</div>\\n          </div>\\n</article>\\n\\n  </div>\\n\\n</div>\\n\\n    </div>\\n  \\n          </div>\\n</div>\\n\\n  </section>\\n\\n\\n  </div>\\n\\n              </section>\\n\\n                </div>\\n  </div>\\n\\n\\n\\n      <footer class=\"footer container\" role=\"contentinfo\">\\n        <div class=\"region region-footer\" aria-label=\"footer\">\\n    <nav role=\"navigation\" aria-labelledby=\"block-dbfooter-menu\" id=\"block-dbfooter\" class=\"block-db-footer\">\\n            \\n  <h2 class=\"visually-hidden\" id=\"block-dbfooter-menu\">DB footer</h2>\\n  \\n\\n        \\n      <ul class=\"menu menu--db-footer nav\">\\n                      <li class=\"first\">\\n                                        <a href=\"/db-api-marketplace/apis/contact\" data-drupal-link-system-path=\"contact\">Kontakt</a>\\n              </li>\\n                      <li>\\n                                        <a href=\"/db-api-marketplace/apis/privacypolicy\" data-drupal-link-system-path=\"node/57163\">Datenschutz</a>\\n              </li>\\n                      <li>\\n                                        <a href=\"/db-api-marketplace/apis/imprint\" data-drupal-link-system-path=\"node/57160\">Impressum</a>\\n              </li>\\n                      <li class=\"last\">\\n                                        <a href=\"/db-api-marketplace/apis/nutzungsbedingungen\" data-drupal-link-system-path=\"node/57157\">Nutzungsbedingungen</a>\\n              </li>\\n        </ul>\\n  \\n\\n  </nav>\\n\\n  </div>\\n\\n    </footer>\\n  \\n  </div>\\n\\n\\n<script type=\"application/json\" data-drupal-selector=\"drupal-settings-json\">{\"path\":{\"baseUrl\":\"\\\\/db-api-marketplace\\\\/apis\\\\/\",\"scriptPath\":null,\"pathPrefix\":\"\",\"currentPath\":\"node\\\\/57172\",\"currentPathIsAdmin\":false,\"isFront\":false,\"currentLanguage\":\"de\"},\"pluralDelimiter\":\"\\\\u0003\",\"suppressDeprecationErrors\":true,\"masonry\":{\".masonry-layout-neueste-services\":{\"masonry_ids\":[\"masonry_view\",\"masonry_view_neueste_services\",\"masonry_view_display_block_1\"],\"item_selector\":\".masonry-item\",\"column_width\":\"\",\"column_width_units\":\"px\",\"gutter_width\":0,\"resizable\":true,\"animated\":true,\"animation_duration\":500,\"fit_width\":false,\"rtl\":false,\"images_first\":true,\"images_lazyload\":false,\"lazyload_selector\":\"lazyload\",\"lazyloaded_selector\":\"lazyloaded\",\"stamp\":\"\",\"percent_position\":false,\"extra_options\":[]}},\"ajaxPageState\":{\"libraries\":\"bootstrap\\\\/popover,connect_theme\\\\/dropit,connect_theme\\\\/social_media_links,dbopenapi_theme\\\\/fonts,dbopenapi_theme\\\\/global-styling,eu_cookie_compliance\\\\/eu_cookie_compliance_bare,extlink\\\\/drupal.extlink,ibm_apim\\\\/core,page_load_progress\\\\/page_load_progress,product\\\\/basic,social_media_links\\\\/social_media_links.theme,system\\\\/base,views\\\\/views.module\",\"theme\":\"dbopenapi_theme\",\"theme_token\":null},\"ajaxTrustedUrl\":[],\"page_load_progress\":{\"delay\":10,\"elements\":\".page-load-progress-submit\",\"internal_links\":false,\"esc_key\":true,\"loading_string\":\"Laden\"},\"data\":{\"extlink\":{\"extTarget\":true,\"extTargetNoOverride\":true,\"extNofollow\":true,\"extNoreferrer\":true,\"extFollowNoOverride\":false,\"extClass\":\"ext\",\"extLabel\":\"(Link ist extern)\",\"extImgClass\":false,\"extSubdomains\":true,\"extExclude\":\"\",\"extInclude\":\"\",\"extCssExclude\":\"\",\"extCssExplicit\":\"\",\"extAlert\":false,\"extAlertText\":\"Dieser Link ruft eine externe Website auf. F\\\\u00fcr den Inhalt dieser Website sind wir nicht verantwortlich.\",\"mailtoClass\":\"mailto\",\"mailtoLabel\":\"(Link sendet E-Mail)\",\"extUseFontAwesome\":false,\"extIconPlacement\":\"append\",\"extFaLinkClasses\":\"fa fa-external-link\",\"extFaMailtoClasses\":\"fa fa-envelope-o\",\"whitelistedDomains\":[]}},\"eu_cookie_compliance\":{\"cookie_policy_version\":\"1.0.0\",\"popup_enabled\":false,\"popup_agreed_enabled\":false,\"popup_hide_agreed\":false,\"popup_clicking_confirmation\":false,\"popup_scrolling_confirmation\":false,\"popup_html_info\":false,\"use_mobile_message\":false,\"mobile_popup_html_info\":false,\"mobile_breakpoint\":768,\"popup_html_agreed\":false,\"popup_use_bare_css\":true,\"popup_height\":\"auto\",\"popup_width\":\"100%\",\"popup_delay\":1000,\"popup_link\":\"\\\\/db-api-marketplace\\\\/apis\\\\/privacy\",\"popup_link_new_window\":true,\"popup_position\":false,\"fixed_top_position\":true,\"popup_language\":\"de\",\"store_consent\":true,\"better_support_for_screen_readers\":false,\"cookie_name\":\"\",\"reload_page\":false,\"domain\":\"\",\"domain_all_sites\":false,\"popup_eu_only\":false,\"popup_eu_only_js\":false,\"cookie_lifetime\":100,\"cookie_session\":0,\"set_cookie_session_zero_on_disagree\":null,\"disagree_do_not_show_popup\":false,\"method\":\"default\",\"automatic_cookies_removal\":false,\"allowed_cookies\":\"\",\"withdraw_markup\":\"\\\\u003Cbutton type=\\\\u0022button\\\\u0022 class=\\\\u0022eu-cookie-withdraw-tab\\\\u0022\\\\u003E\\\\u003C\\\\/button\\\\u003E\\\\n\\\\u003Cdiv aria-labelledby=\\\\u0022popup-text\\\\u0022 class=\\\\u0022eu-cookie-withdraw-banner\\\\u0022\\\\u003E\\\\n  \\\\u003Cdiv class=\\\\u0022popup-content info eu-cookie-compliance-content\\\\u0022\\\\u003E\\\\n    \\\\u003Cdiv id=\\\\u0022popup-text\\\\u0022 class=\\\\u0022eu-cookie-compliance-message\\\\u0022 role=\\\\u0022document\\\\u0022\\\\u003E\\\\n      \\\\n    \\\\u003C\\\\/div\\\\u003E\\\\n    \\\\u003Cdiv id=\\\\u0022popup-buttons\\\\u0022 class=\\\\u0022eu-cookie-compliance-buttons\\\\u0022\\\\u003E\\\\n      \\\\u003Cbutton type=\\\\u0022button\\\\u0022 class=\\\\u0022eu-cookie-withdraw-button \\\\u0022\\\\u003EZustimmung zur\\\\u00fcckziehen\\\\u003C\\\\/button\\\\u003E\\\\n    \\\\u003C\\\\/div\\\\u003E\\\\n  \\\\u003C\\\\/div\\\\u003E\\\\n\\\\u003C\\\\/div\\\\u003E\",\"withdraw_enabled\":false,\"reload_options\":null,\"reload_routes_list\":null,\"withdraw_button_on_info_popup\":false,\"cookie_categories\":[],\"cookie_categories_details\":[],\"enable_save_preferences_button\":false,\"cookie_value_disagreed\":\"0\",\"cookie_value_agreed_show_thank_you\":\"1\",\"cookie_value_agreed\":\"2\",\"containing_element\":null,\"settings_tab_enabled\":null,\"olivero_primary_button_classes\":\"\",\"olivero_secondary_button_classes\":\"\",\"close_button_action\":\"close_banner\",\"open_by_default\":false,\"modules_allow_popup\":true,\"hide_the_banner\":false,\"geoip_match\":true},\"bootstrap\":{\"forms_has_error_value_toggle\":1,\"modal_animation\":1,\"modal_backdrop\":\"true\",\"modal_focus_input\":1,\"modal_keyboard\":1,\"modal_select_text\":1,\"modal_show\":1,\"modal_size\":\"\",\"popover_enabled\":1,\"popover_animation\":1,\"popover_auto_close\":1,\"popover_container\":\"body\",\"popover_content\":\"\",\"popover_delay\":\"0\",\"popover_html\":0,\"popover_placement\":\"right\",\"popover_selector\":\"\",\"popover_title\":\"\",\"popover_trigger\":\"click\"},\"user\":{\"uid\":0,\"permissionsHash\":\"98de346a2d04f6c593542394c5cf57e92fe839866089e56affcf7887e58a2e13\"}}</script>\\n<script src=\"https://developers.deutschebahn.com/db-api-marketplace/apis/sites/db-api-marketplace.apis.developers.deutschebahn.com/files/js/js_lhx4ECeqNNQ4fMTCPzF5cAacUCT9U98GBvPVZ8fBc3w.js\"></script>\\n<script src=\"https://developers.deutschebahn.com/db-api-marketplace/apis/modules/eu_cookie_compliance/js/eu_cookie_compliance.min.js?v=9.4.8\" defer></script>\\n<script src=\"https://developers.deutschebahn.com/db-api-marketplace/apis/sites/db-api-marketplace.apis.developers.deutschebahn.com/files/js/js_Vr7Ss94WtU3f_BlXWWuIiNsEcEouQPqYNGD17q-8XHA.js\"></script>\\n\\n</body>\\n</html>\\n'"
      ]
     },
     "execution_count": 7,
     "metadata": {},
     "output_type": "execute_result"
    }
   ],
   "source": [
    "response.text"
   ]
  },
  {
   "cell_type": "code",
   "execution_count": 8,
   "id": "7d02bc4d",
   "metadata": {},
   "outputs": [],
   "source": [
    "request = response.request\n"
   ]
  },
  {
   "cell_type": "code",
   "execution_count": 9,
   "id": "251129be",
   "metadata": {},
   "outputs": [
    {
     "data": {
      "text/plain": [
       "{'User-Agent': 'python-requests/2.28.1', 'Accept-Encoding': 'gzip, deflate', 'Accept': '*/*', 'Connection': 'keep-alive'}"
      ]
     },
     "execution_count": 9,
     "metadata": {},
     "output_type": "execute_result"
    }
   ],
   "source": [
    "request.headers"
   ]
  },
  {
   "cell_type": "code",
   "execution_count": null,
   "id": "51c4dc97",
   "metadata": {},
   "outputs": [],
   "source": [
    "'''\n",
    "HTTP Header\t\tDescription\n",
    "Accept\t\t\tWhat type of content the client can accept\n",
    "Content-Type\tWhat type of content the server will respond with\n",
    "User-Agent\t\tWhat software the client is using to communicate with the server\n",
    "Server\t\t\tWhat software the server is using to communicate with the client\n",
    "Authentication\tWho is calling the API and what credentials they have\n",
    "'''\n"
   ]
  },
  {
   "cell_type": "code",
   "execution_count": null,
   "id": "9eb3d949",
   "metadata": {},
   "outputs": [],
   "source": [
    "# It means the client can accept a response which has been compressed using the DEFLATE algorithm. \n",
    "# https://en.wikipedia.org/wiki/Deflate This algorithm is also used in gzip compression format.\n",
    "\n",
    "# It does not mean the response will be compressed - that requires the server to be configured to compress, \n",
    "# which is normally settable per file type. For example there is no point trying to compress jpegs, \n",
    "# but for a length text output such as the html body or css, it can reduce bandwidth - \n",
    "# at the cost of the server's CPU in compression."
   ]
  },
  {
   "cell_type": "code",
   "execution_count": null,
   "id": "6655a06d",
   "metadata": {},
   "outputs": [],
   "source": []
  },
  {
   "cell_type": "code",
   "execution_count": 55,
   "id": "5f3ba3fa",
   "metadata": {},
   "outputs": [],
   "source": [
    "hessen_url = \"https://www.rmv.de/hapi/\""
   ]
  },
  {
   "cell_type": "code",
   "execution_count": 56,
   "id": "253b600c",
   "metadata": {},
   "outputs": [],
   "source": [
    "hessen_response = requests.get(hessen_url)"
   ]
  },
  {
   "cell_type": "code",
   "execution_count": 57,
   "id": "479400d2",
   "metadata": {},
   "outputs": [
    {
     "data": {
      "text/plain": [
       "200"
      ]
     },
     "execution_count": 57,
     "metadata": {},
     "output_type": "execute_result"
    }
   ],
   "source": [
    "hessen_response.status_code"
   ]
  },
  {
   "cell_type": "code",
   "execution_count": 58,
   "id": "9ffbec4f",
   "metadata": {},
   "outputs": [
    {
     "data": {
      "text/plain": [
       "'<html><head><meta charset=\"UTF-8\"></head><body><ul><li><a href=\\'//www.rmv.de/hapi/arrivalBoard?wadl\\' target=\\'_blank\\'>Arrival board</a></li><li><a href=\\'//www.rmv.de/hapi/departureBoard?wadl\\' target=\\'_blank\\'>Departure board</a></li><li><a href=\\'//www.rmv.de/hapi/downloads?wadl\\' target=\\'_blank\\'>Download Files</a></li><li><a href=\\'//www.rmv.de/hapi/himsearch?wadl\\' target=\\'_blank\\'>HIM Search</a></li><li><a href=\\'//www.rmv.de/hapi/journeyDetail?wadl\\' target=\\'_blank\\'>Journey detail</a></li><li><a href=\\'//www.rmv.de/hapi/location.nearbystops?wadl\\' target=\\'_blank\\'>Location search by coordinate</a></li><li><a href=\\'//www.rmv.de/hapi/location.name?wadl\\' target=\\'_blank\\'>Location search by name</a></li><li><a href=\\'//www.rmv.de/hapi/recon?wadl\\' target=\\'_blank\\'>Reconstruction</a></li><li><a href=\\'//www.rmv.de/hapi/trip?wadl\\' target=\\'_blank\\'>Trip search</a></li><li><a href=\\'//www.rmv.de/hapi/xsd\\' target=\\'_blank\\'>XSD</a></li></ul></body></html>'"
      ]
     },
     "execution_count": 58,
     "metadata": {},
     "output_type": "execute_result"
    }
   ],
   "source": [
    "hessen_response.text"
   ]
  },
  {
   "cell_type": "code",
   "execution_count": 59,
   "id": "94433496",
   "metadata": {},
   "outputs": [
    {
     "data": {
      "text/plain": [
       "{'User-Agent': 'python-requests/2.28.1', 'Accept-Encoding': 'gzip, deflate', 'Accept': '*/*', 'Connection': 'keep-alive'}"
      ]
     },
     "execution_count": 59,
     "metadata": {},
     "output_type": "execute_result"
    }
   ],
   "source": [
    "hessen_request = hessen_response.request\n",
    "hessen_request.headers"
   ]
  },
  {
   "cell_type": "code",
   "execution_count": null,
   "id": "3f453609",
   "metadata": {},
   "outputs": [],
   "source": []
  },
  {
   "cell_type": "code",
   "execution_count": 60,
   "id": "cef66aa3",
   "metadata": {},
   "outputs": [],
   "source": [
    "kroger_url = \"https://api.kroger.com/v1/\""
   ]
  },
  {
   "cell_type": "code",
   "execution_count": 61,
   "id": "39201732",
   "metadata": {},
   "outputs": [
    {
     "data": {
      "text/plain": [
       "404"
      ]
     },
     "execution_count": 61,
     "metadata": {},
     "output_type": "execute_result"
    }
   ],
   "source": [
    "kroger_response = requests.get(kroger_url)\n",
    "kroger_response.status_code"
   ]
  },
  {
   "cell_type": "code",
   "execution_count": null,
   "id": "b51adedf",
   "metadata": {},
   "outputs": [],
   "source": []
  },
  {
   "cell_type": "code",
   "execution_count": null,
   "id": "718f7661",
   "metadata": {},
   "outputs": [],
   "source": []
  },
  {
   "cell_type": "code",
   "execution_count": null,
   "id": "066186e0",
   "metadata": {},
   "outputs": [],
   "source": []
  },
  {
   "cell_type": "code",
   "execution_count": null,
   "id": "07b4a976",
   "metadata": {},
   "outputs": [],
   "source": []
  },
  {
   "cell_type": "code",
   "execution_count": 10,
   "id": "5662e691",
   "metadata": {},
   "outputs": [
    {
     "data": {
      "text/plain": [
       "'https://developers.deutschebahn.com/db-api-marketplace/apis/'"
      ]
     },
     "execution_count": 10,
     "metadata": {},
     "output_type": "execute_result"
    }
   ],
   "source": [
    "request.url"
   ]
  },
  {
   "cell_type": "code",
   "execution_count": null,
   "id": "5a8e7cdf",
   "metadata": {},
   "outputs": [],
   "source": []
  },
  {
   "cell_type": "code",
   "execution_count": 12,
   "id": "100aacae",
   "metadata": {},
   "outputs": [],
   "source": [
    "# response.json()"
   ]
  },
  {
   "cell_type": "code",
   "execution_count": 13,
   "id": "b6dc3f00",
   "metadata": {},
   "outputs": [],
   "source": [
    "import zlib\n",
    "import urllib"
   ]
  },
  {
   "cell_type": "code",
   "execution_count": 16,
   "id": "c632a961",
   "metadata": {},
   "outputs": [
    {
     "ename": "error",
     "evalue": "Error -3 while decompressing data: incorrect header check",
     "output_type": "error",
     "traceback": [
      "\u001b[0;31m---------------------------------------------------------------------------\u001b[0m",
      "\u001b[0;31merror\u001b[0m                                     Traceback (most recent call last)",
      "Cell \u001b[0;32mIn[16], line 2\u001b[0m\n\u001b[1;32m      1\u001b[0m f \u001b[38;5;241m=\u001b[39m urllib\u001b[38;5;241m.\u001b[39mrequest\u001b[38;5;241m.\u001b[39murlopen(url) \n\u001b[0;32m----> 2\u001b[0m decompressed_data\u001b[38;5;241m=\u001b[39m\u001b[43mzlib\u001b[49m\u001b[38;5;241;43m.\u001b[39;49m\u001b[43mdecompress\u001b[49m\u001b[43m(\u001b[49m\u001b[43mf\u001b[49m\u001b[38;5;241;43m.\u001b[39;49m\u001b[43mread\u001b[49m\u001b[43m(\u001b[49m\u001b[43m)\u001b[49m\u001b[43m,\u001b[49m\u001b[43m \u001b[49m\u001b[38;5;241;43m16\u001b[39;49m\u001b[38;5;241;43m+\u001b[39;49m\u001b[43mzlib\u001b[49m\u001b[38;5;241;43m.\u001b[39;49m\u001b[43mMAX_WBITS\u001b[49m\u001b[43m)\u001b[49m\n",
      "\u001b[0;31merror\u001b[0m: Error -3 while decompressing data: incorrect header check"
     ]
    }
   ],
   "source": [
    "# f = urllib.request.urlopen(url) \n",
    "# decompressed_data = zlib.decompress(f.read(), 16+zlib.MAX_WBITS)"
   ]
  },
  {
   "cell_type": "code",
   "execution_count": 20,
   "id": "7d3a3e4b",
   "metadata": {},
   "outputs": [],
   "source": [
    "import gzip\n",
    "from urllib.request import urlopen\n",
    "\n",
    "my_gzip_stream = urlopen(url)\n",
    "my_stream = gzip.open(my_gzip_stream, 'r')"
   ]
  },
  {
   "cell_type": "code",
   "execution_count": 51,
   "id": "7f63c2ca",
   "metadata": {},
   "outputs": [],
   "source": [
    "# Example of how to read a compressed file:\n",
    "\n",
    "import gzip\n",
    "with gzip.open(my_gzip_stream, 'rb') as f:\n",
    "    file_content = f.read()"
   ]
  },
  {
   "cell_type": "code",
   "execution_count": 54,
   "id": "2f6b5e76",
   "metadata": {},
   "outputs": [
    {
     "data": {
      "text/plain": [
       "b''"
      ]
     },
     "execution_count": 54,
     "metadata": {},
     "output_type": "execute_result"
    }
   ],
   "source": [
    "file_content"
   ]
  },
  {
   "cell_type": "code",
   "execution_count": 50,
   "id": "788d28ed",
   "metadata": {},
   "outputs": [
    {
     "ename": "TypeError",
     "evalue": "a bytes-like object is required, not 'HTTPResponse'",
     "output_type": "error",
     "traceback": [
      "\u001b[0;31m---------------------------------------------------------------------------\u001b[0m",
      "\u001b[0;31mTypeError\u001b[0m                                 Traceback (most recent call last)",
      "Cell \u001b[0;32mIn[50], line 1\u001b[0m\n\u001b[0;32m----> 1\u001b[0m \u001b[43mgzip\u001b[49m\u001b[38;5;241;43m.\u001b[39;49m\u001b[43mdecompress\u001b[49m\u001b[43m(\u001b[49m\u001b[43mmy_gzip_stream\u001b[49m\u001b[43m)\u001b[49m\n",
      "File \u001b[0;32m/opt/homebrew/Cellar/python@3.11/3.11.1/Frameworks/Python.framework/Versions/3.11/lib/python3.11/gzip.py:600\u001b[0m, in \u001b[0;36mdecompress\u001b[0;34m(data)\u001b[0m\n\u001b[1;32m    598\u001b[0m decompressed_members \u001b[38;5;241m=\u001b[39m []\n\u001b[1;32m    599\u001b[0m \u001b[38;5;28;01mwhile\u001b[39;00m \u001b[38;5;28;01mTrue\u001b[39;00m:\n\u001b[0;32m--> 600\u001b[0m     fp \u001b[38;5;241m=\u001b[39m \u001b[43mio\u001b[49m\u001b[38;5;241;43m.\u001b[39;49m\u001b[43mBytesIO\u001b[49m\u001b[43m(\u001b[49m\u001b[43mdata\u001b[49m\u001b[43m)\u001b[49m\n\u001b[1;32m    601\u001b[0m     \u001b[38;5;28;01mif\u001b[39;00m _read_gzip_header(fp) \u001b[38;5;129;01mis\u001b[39;00m \u001b[38;5;28;01mNone\u001b[39;00m:\n\u001b[1;32m    602\u001b[0m         \u001b[38;5;28;01mreturn\u001b[39;00m \u001b[38;5;124mb\u001b[39m\u001b[38;5;124m\"\u001b[39m\u001b[38;5;124m\"\u001b[39m\u001b[38;5;241m.\u001b[39mjoin(decompressed_members)\n",
      "\u001b[0;31mTypeError\u001b[0m: a bytes-like object is required, not 'HTTPResponse'"
     ]
    }
   ],
   "source": [
    "gzip.decompress(my_gzip_stream)"
   ]
  },
  {
   "cell_type": "code",
   "execution_count": 21,
   "id": "9d18faa5",
   "metadata": {},
   "outputs": [
    {
     "data": {
      "text/plain": [
       "<gzip http.client.HTTPResponse object at 0x11a485d20 0x11d160c10>"
      ]
     },
     "execution_count": 21,
     "metadata": {},
     "output_type": "execute_result"
    }
   ],
   "source": [
    "my_stream"
   ]
  },
  {
   "cell_type": "code",
   "execution_count": 43,
   "id": "4b20d259",
   "metadata": {},
   "outputs": [
    {
     "data": {
      "text/plain": [
       "<http.client.HTTPResponse at 0x11a485d20>"
      ]
     },
     "execution_count": 43,
     "metadata": {},
     "output_type": "execute_result"
    }
   ],
   "source": [
    "my_gzip_stream"
   ]
  },
  {
   "cell_type": "code",
   "execution_count": 44,
   "id": "3a10eaa8",
   "metadata": {},
   "outputs": [
    {
     "data": {
      "text/plain": [
       "11"
      ]
     },
     "execution_count": 44,
     "metadata": {},
     "output_type": "execute_result"
    }
   ],
   "source": [
    "my_gzip_stream.version"
   ]
  },
  {
   "cell_type": "code",
   "execution_count": 45,
   "id": "b19cc728",
   "metadata": {},
   "outputs": [
    {
     "data": {
      "text/plain": [
       "'https://developers.deutschebahn.com/db-api-marketplace/apis/'"
      ]
     },
     "execution_count": 45,
     "metadata": {},
     "output_type": "execute_result"
    }
   ],
   "source": [
    "my_gzip_stream.url"
   ]
  },
  {
   "cell_type": "code",
   "execution_count": 47,
   "id": "e67d6564",
   "metadata": {},
   "outputs": [
    {
     "data": {
      "text/plain": [
       "b'E html>\\n<html  lang=\"de\" dir=\"ltr\" prefix=\"content: http://purl.org/rss/1.0/modules/content/  dc: http://purl.org/dc/terms/  foaf: http://xmlns.com/foaf/0.1/  og: http://ogp.me/ns#  rdfs: http://www.w3.org/2000/01/rdf-schema#  schema: http://schema.org/  sioc: http://rdfs.org/sioc/ns#  sioct: http://rdfs.org/sioc/types#  skos: http://www.w3.org/2004/02/skos/core#  xsd: http://www.w3.org/2001/XMLSchema# \">\\n<head>\\n  <meta charset=\"utf-8\" />\\n<link rel=\"canonical\" href=\"https://developers.deutschebahn.com/db-api-marketplace/apis/frontpage\" />\\n<meta name=\"description\" content=\"DB API Marketplace\" />\\n<meta name=\"MobileOptimized\" content=\"width\" />\\n<meta name=\"HandheldFriendly\" content=\"true\" />\\n<meta name=\"viewport\" content=\"width=device-width, initial-scale=1.0\" />\\n<link rel=\"icon\" href=\"https://developers.deutschebahn.com/db-api-marketplace/apis/sites/db-api-marketplace.apis.developers.deutschebahn.com/themes/dbopenapi_theme/favicon.ico\" type=\"image/vnd.microsoft.icon\" />\\n<link rel=\"alternate\" hreflang=\"en\" href=\"https://developers.deutschebahn.com/db-api-marketplace/apis/frontpage\" />\\n<link rel=\"alternate\" hreflang=\"de\" href=\"https://developers.deutschebahn.com/db-api-marketplace/apis/frontpage\" />\\n\\n    <title>DB API Marketplace | DB API Marketplace</title>\\n    <link rel=\"stylesheet\" media=\"all\" href=\"https://developers.deutschebahn.com/db-api-marketplace/apis/sites/db-api-marketplace.apis.developers.deutschebahn.com/files/css/css_trwzrxsT0ZYfugTaNojdRXe3NvELraml8twgdaXhoM0.css\" />\\n<link rel=\"stylesheet\" media=\"all\" href=\"https://developers.deutschebahn.com/db-api-marketplace/apis/sites/db-api-marketplace.apis.developers.deutschebahn.com/files/css/css_l2O8x9nMneMg6tTVNtuwX8i2MR00VurEMZs5Wx2zZFM.css\" />\\n\\n      \\n        </head>\\n<body class=\"context--frontpage user-registry-oidc route-entitynodecanonical ur-count-2 role-anonymous path-node context-frontpage page-node-type-page has-glyphicons bx--global-light-ui\" aria-label=\"Body\">\\n<div class=\"visually-hidden\" role=\"complementary\" aria-label=\"Zum Hauptinhalt springen\">\\n  <a href=\"#main-content\" class=\"visually-hidden focusable skip-link\">\\n    Zum Hauptinhalt springen\\n  </a>\\n</div>\\n\\n  <div class=\"dialog-off-canvas-main-canvas\" data-off-canvas-main-canvas>\\n    \\n          <header class=\"apicStickyHeader section-header\">\\n                                                  <div  class=\"row navbar navbar-default container\" id=\"navbar\">\\n                              <div class=\"navbar-header col-md-8 col-sm-8 col-xs-3\">\\n                    <div class=\"region region-navigation\" aria-label=\"navigation\">\\n          <a class=\"icon-db-marke pic-container\" href=\"/db-api-marketplace/apis/\" title=\"Home\" rel=\"home\"></a>\\n    <a class=\"textzusatz pic-container\" href=\"/db-api-marketplace/apis/\" title=\"Home\" rel=\"home\"></a>\\n    <a class=\"icon-environment pic-container\" href=\"/db-api-marketplace/apis/\" title=\"Home\" rel=\"home\"></a>\\n    <button type=\"button\" class=\"navbar-toggle\" data-toggle=\"collapse\" data-target=\"#navbar-collapse\">\\n      <span class=\"sr-only\">Navigation ein-/ausschalten</span>\\n      <span class=\"icon-bar\"></span>\\n      <span class=\"icon-bar\"></span>\\n      <span class=\"icon-bar\"></span>\\n    </button>\\n      <nav role=\"navigation\" aria-labelledby=\"block-dbnavigation-menu\" id=\"block-dbnavigation\" class=\"block-db-navigation\">\\n            \\n  <h2 class=\"visually-hidden\" id=\"block-dbnavigation-menu\">DB navigation</h2>\\n  \\n\\n        \\n      <ul class=\"menu menu--db-navigation nav\">\\n                      <li class=\"first\">\\n                                        <a href=\"/db-api-marketplace/apis/product\" data-drupal-link-system-path=\"product\">Katalog</a>\\n              </li>\\n                      <li class=\"last\">\\n                                        <a href=\"/db-api-marketplace/apis/news\" data-drupal-link-system-path=\"news\">Neuigkeiten</a>\\n              </li>\\n        </ul>\\n  \\n\\n  </nav>\\n\\n  </div>\\n\\n                </div>\\n                <div class=\"navbar-right col-md-4 col-sm-4 col-xs-9\">\\n                    <div class=\"region region-navigation-right\" aria-label=\"navigation_right\">\\n    <nav role=\"navigation\" aria-labelledby=\"block-dbopenapi-theme-login-menu\" id=\"block-dbopenapi-theme-login\" class=\"block-login\">\\n            \\n  <h2 class=\"visually-hidden\" id=\"block-dbopenapi-theme-login-menu\">Anmelden</h2>\\n  \\n\\n        \\n      <ul class=\"menu menu--login nav\">\\n                      <li class=\"first last\">\\n                                        <a href=\"/db-api-marketplace/apis/user/login\" title=\"Bei Ihrem Account anmelden\" data-drupal-link-system-path=\"user/login\">Anmelden</a>\\n              </li>\\n        </ul>\\n  \\n\\n  </nav>\\n<section id=\"block-dbopenapi-theme-searchiconblock\" class=\"block block-ibm-apim block-search-icon-block block-ibm-apim-search-icon clearfix\" aria-label=\"Search Icon Block\">\\n  \\n    \\n\\n      \\n<div class=\"ibmapimSearch\" role=\"search\" aria-label=\"Diese Site durchsuchen\">\\n    <div class=\"imageContainer\">\\n        <a title=\"Diese Site durchsuchen\" href=\"/db-api-marketplace/apis/search/global\">\\n           <div class=\"magnifier pic-container\">\\n\\t\\t\\t\\t<svg\\n\\t\\t\\t\\t   xmlns:dc=\"http://purl.org/dc/elements/1.1/\"\\n\\t\\t\\t\\t   xmlns:cc=\"http://creativecommons.org/ns#\"\\n\\t\\t\\t\\t   xmlns:rdf=\"http://www.w3.org/1999/02/22-rdf-syntax-ns#\"\\n\\t\\t\\t\\t   xmlns:svg=\"http://www.w3.org/2000/svg\"\\n\\t\\t\\t\\t   xmlns=\"http://www.w3.org/2000/svg\"\\n\\t\\t\\t\\t   xmlns:sodipodi=\"http://sodipodi.sourceforge.net/DTD/sodipodi-0.dtd\"\\n\\t\\t\\t\\t   xmlns:inkscape=\"http://www.inkscape.org/namespaces/inkscape\"\\n\\t\\t\\t\\t   width=\"40mm\"\\n\\t\\t\\t\\t   height=\"40mm\"\\n\\t\\t\\t\\t   viewBox=\"0 0 40 40\"\\n\\t\\t\\t\\t   version=\"1.1\"\\n\\t\\t\\t\\t   id=\"svg4566\"\\n\\t\\t\\t\\t   inkscape:version=\"0.92.3 (2405546, 2018-03-11)\"\\n\\t\\t\\t\\t   sodipodi:docname=\"icon_magnifier.svg\">\\n\\t\\t\\t\\t  <defs\\n\\t\\t\\t\\t\\t id=\"defs4560\" />\\n\\t\\t\\t\\t  <sodipodi:namedview\\n\\t\\t\\t\\t\\t id=\"base\"\\n\\t\\t\\t\\t\\t pagecolor=\"#ffffff\"\\n\\t\\t\\t\\t\\t bordercolor=\"#666666\"\\n\\t\\t\\t\\t\\t borderopacity=\"1.0\"\\n\\t\\t\\t\\t\\t inkscape:pageopacity=\"0.0\"\\n\\t\\t\\t\\t\\t inkscape:pageshadow=\"2\"\\n\\t\\t\\t\\t\\t inkscape:zoom=\"2.8\"\\n\\t\\t\\t\\t\\t inkscape:cx=\"-44.981834\"\\n\\t\\t\\t\\t\\t inkscape:cy=\"59.264688\"\\n\\t\\t\\t\\t\\t inkscape:document-units=\"mm\"\\n\\t\\t\\t\\t\\t inkscape:current-layer=\"layer1\"\\n\\t\\t\\t\\t\\t showgrid=\"false\"\\n\\t\\t\\t\\t\\t inkscape:window-width=\"1920\"\\n\\t\\t\\t\\t\\t inkscape:window-height=\"1001\"\\n\\t\\t\\t\\t\\t inkscape:window-x=\"-9\"\\n\\t\\t\\t\\t\\t inkscape:window-y=\"-9\"\\n\\t\\t\\t\\t\\t inkscape:window-maximized=\"1\" />\\n\\t\\t\\t\\t  <metadata\\n\\t\\t\\t\\t\\t id=\"metadata4563\">\\n\\t\\t\\t\\t\\t<rdf:RDF>\\n\\t\\t\\t\\t\\t  <cc:Work\\n\\t\\t\\t\\t\\t\\t rdf:about=\"\">\\n\\t\\t\\t\\t\\t\\t<dc:format>image/svg+xml</dc:format>\\n\\t\\t\\t\\t\\t\\t<dc:type\\n\\t\\t\\t\\t\\t\\t   rdf:resource=\"http://purl.org/dc/dcmitype/StillImage\" />\\n\\t\\t\\t\\t\\t\\t<dc:title></dc:title>\\n\\t\\t\\t\\t\\t  </cc:Work>\\n\\t\\t\\t\\t\\t</rdf:RDF>\\n\\t\\t\\t\\t  </metadata>\\n\\t\\t\\t\\t  <g\\n\\t\\t\\t\\t\\t inkscape:label=\"Ebene 1\"\\n\\t\\t\\t\\t\\t inkscape:groupmode=\"layer\"\\n\\t\\t\\t\\t\\t id=\"layer1\"\\n\\t\\t\\t\\t\\t transform=\"translate(0,-257)\">\\n\\t\\t\\t\\t\\t<path\\n\\t\\t\\t\\t\\t   style=\"fill:none;fill-opacity:0.92941176;fill-rule:evenodd;stroke:#636872;stroke-width:1.5;stroke-linecap:butt;stroke-linejoin:round;stroke-miterlimit:4;stroke-dasharray:none;stroke-opacity:0.92941176;paint-order:normal\"\\n\\t\\t\\t\\t\\t   id=\"path4528\"\\n\\t\\t\\t\\t\\t   sodipodi:type=\"arc\"\\n\\t\\t\\t\\t\\t   sodipodi:cx=\"14.842511\"\\n\\t\\t\\t\\t\\t   sodipodi:cy=\"271.54733\"\\n\\t\\t\\t\\t\\t   sodipodi:rx=\"13.642152\"\\n\\t\\t\\t\\t\\t   sodipodi:ry=\"13.519195\"\\n\\t\\t\\t\\t\\t   sodipodi:start=\"6.2703746\"\\n\\t\\t\\t\\t\\t   sodipodi:end=\"6.2688562\"\\n\\t\\t\\t\\t\\t   sodipodi:open=\"true\"\\n\\t\\t\\t\\t\\t   d=\"M 28.483544,271.37415 A 13.642152,13.519195 0 0 1 15.02245,285.06535 13.642152,13.519195 0 0 1 1.2016154,271.73078 13.642152,13.519195 0 0 1 14.652216,258.02945 13.642152,13.519195 0 0 1 28.483263,271.35362\" />\\n\\t\\t\\t\\t\\t<rect\\n\\t\\t\\t\\t\\t   style=\"fill:none;fill-opacity:0.92941176;fill-rule:evenodd;stroke:#636872;stroke-width:1.5;stroke-linecap:butt;stroke-linejoin:round;stroke-miterlimit:4;stroke-dasharray:none;stroke-opacity:0.92941176;paint-order:normal\"\\n\\t\\t\\t\\t\\t   id=\"rect4548\"\\n\\t\\t\\t\\t\\t   width=\"0.27983931\"\\n\\t\\t\\t\\t\\t   height=\"20.1497\"\\n\\t\\t\\t\\t\\t   x=\"-185.54372\"\\n\\t\\t\\t\\t\\t   y=\"219.32826\"\\n\\t\\t\\t\\t\\t   transform=\"matrix(0.71592047,-0.69818184,0.71752653,0.69653117,0,0)\" />\\n\\t\\t\\t\\t  </g>\\n\\t\\t\\t\\t</svg>\\n\\t\\t\\t</div>\\n        </a>\\n    </div>\\n</div>\\n\\n  </section>\\n\\n\\n  </div>\\n\\n                </div>\\n\\n                            </div>\\n                  \\n      </header>\\n    \\n\\n\\n  <div role=\"main\" class=\"apicMainContent main-container container js-quickedit-main-content\">\\n    <div class=\"row\">\\n\\n            \\n            \\n                  <section class=\"col-sm-12\" aria-label=\"Hauptinhalt\">\\n\\n                                      <div class=\"highlighted\">  <div class=\"region region-highlighted\" aria-label=\"highlighted\">\\n    <div data-drupal-messages-fallback class=\"hidden\"></div>\\n\\n  </div>\\n</div>\\n                  \\n                \\n                \\n                \\n                          <a id=\"main-content\"></a>\\n            <div class=\"region region-content\" aria-label=\"content\">\\n      <article data-history-node-id=\"57172\" role=\"article\" about=\"/db-api-marketplace/apis/frontpage\" typeof=\"schema:WebPage\" aria-labelledby=\"page-node-title\" class=\"page full clearfix\">\\n\\n  \\n      <span property=\"schema:name\" content=\"DB API Marketplace\" class=\"hidden\"></span>\\n\\n\\n  \\n  <div class=\"content\">\\n    \\n            <div property=\"schema:text\" class=\"field field--name-body field--type-text-with-summary field--label-hidden field--item\"><!-- WILLKOMMENSBANNER -->\\n<section class=\"contextual-region block block-block-content block-welcome-banner-visible block-block-content6abb7098-ddf9-4173-b6a8-df7eebff1efa clearfix col-sm-12\"><div class=\"welcomebanner\">\\n    <div class=\"db-api-portal-logo\">\\n      <h1 id=\"headerImageText\">DB API Marketplace</h1>\\n    </div>\\n  </div>\\n</section><!-- GO AHEAD --><section class=\"contextual-region block block-block-content block-go-ahead-visible block-block-content0187eb79-9060-48d3-9abd-5d2192ca3938 clearfix col-sm-12\"><div class=\"field field--name-body field--type-text-with-summary field--label-hidden field--item quickedit-field\">\\n    <div class=\"goahead\">\\n      <div class=\"goaheadtext\">\\n        <h3>Mit den APIs der Deutschen Bahn neue L\\xc3\\xb6sungen f\\xc3\\xbcr die Mobilit\\xc3\\xa4t von morgen entwickeln!</h3>\\n      </div>\\n    </div>\\n  </div>\\n</section><!-- GETTING STARTED --><section class=\"contextual-region block block-block-content block-getting-started-visible block-block-content76bebd59-424a-4d92-a025-7242add96ba7 clearfix col-sm-12\"><div class=\"field field--name-body field--type-text-with-summary field--label-hidden field--item quickedit-field\">\\n    <div class=\"startguide container\">\\n      <div class=\"row\">\\n        <div class=\"gsstep service-ecosystem col-sm-3 col-xs-12\">\\n          <div class=\"placeholder\">\\xc2\\xa0</div>\\n          <h3>API-Katalog</h3>\\n          <p>Verschaffe Dir durch den API-Katalog einen \\xc3\\x9cberblick \\xc3\\xbcber die vorhandenen APIs.</p>\\n        </div>\\n        <div class=\"hidden-sm-up col-xs-12\">\\n          <a class=\"button einfuehrung-button\" href=\"product\">API-Katalog</a>\\n        </div>\\n        <div class=\"col-sm-1 hidden-sm-down\"></div>\\n        <div class=\"gsstep getting-started col-sm-3 col-xs-12\">\\n          <div class=\"placeholder\">\\xc2\\xa0</div>\\n          <h3>Getting started</h3>\\n          <p>Hier erf\\xc3\\xa4hrst Du, wie Du in wenigen Schritten zu einem erfolgreichen API-Aufruf kommst.</p>\\n        </div>\\n        <div class=\"hidden-sm-up col-xs-12\">\\n          <a class=\"button einfuehrung-button\" href=\"start\">Los geht\\'s!</a>\\n        </div>\\n        <div class=\"col-sm-1 col-xs-0\"></div>\\n        <div class=\"gsstep strategy col-sm-3 col-xs-12\">\\n          <div class=\"placeholder\">\\xc2\\xa0</div>\\n          <h3>DB API Marketplace</h3>\\n          <p>Erfahre hier mehr \\xc3\\xbcber das Portal und unsere Motivation.</p>\\n        </div>\\n        <div class=\"hidden-sm-up col-xs-12\">\\n          <a class=\"button einfuehrung-button\" href=\"marketplace\">Zur Strategie</a>\\n        </div>\\n      </div>\\n      <div class=\"row\">\\n        <div class=\"col-sm-4 hidden-sm-down\">\\n          <a class=\"button einfuehrung-button\" href=\"product\">API-Katalog</a>\\n        </div>\\n        <div class=\"col-sm-4 hidden-sm-down\">\\n          <a class=\"button einfuehrung-button\" href=\"start\">Los geht\\'s!</a>\\n        </div>\\n        <div class=\"col-sm-4 hidden-sm-down\">\\n          <a class=\"button einfuehrung-button\" href=\"marketplace\">\\xc3\\x9cber das Portal</a>\\n        </div>\\n      </div>\\n    </div>\\n  </div>\\n</section></div>\\n      \\n  </div>\\n\\n</article>\\n\\n<section class=\"views-element-container block block-views block- block-views-blockneueste-services-block-1 clearfix\" id=\"block-views-block-neueste-services-block-1\" aria-label=\"Neueste APIs\">\\n  \\n      <h2 class=\"block-title\">Neueste APIs</h2>\\n    \\n\\n      <div class=\"form-group\"><div class=\"view view-neueste-services view-id-neueste_services view-display-id-block_1 js-view-dom-id-f655c0bcdf84d10f25fe8fb14ffee38ae5ea44ea8194e880b60b4a73a3539fb3\">\\n  \\n    \\n      \\n      <div class=\"view-content\">\\n      <div data-drupal-masonry-layout class=\"masonry-layout-neueste-services form-group\">\\n\\n    <div class=\"masonry-item views-row\">\\n    <article id=\"node-1342\"  data-history-node-id=\"1342\" role=\"article\" lang=\"en\" about=\"/db-api-marketplace/apis/node/1342\" aria-labelledby=\"node-1342-title\" class=\"node node--id-1342 node--type-product node--view-mode-teaser productnodeid-1342 producttitle-fasta---station-facilities-status productversion-21359 productstate-\" aria-label=\"FaSta - Station Facilities Status\">\\n          <div class=\"apicProductTeaser\">\\n          <div class=\"apicTeaserIcon product-picture-small-neutral\">\\n      </div>\\n    \\n    <div class=\"apicProductTeaserTags\"></div>\\n\\n    <div class=\"apicProductTeaserMain\">\\n      <div class=\"bx--about__title--name\" data-toggle=\"tooltip\" data-placement=\"bottom\"\\n           title=\"FaSta - Station Facilities Status\">\\n        <a href=\"/db-api-marketplace/apis/product/fasta\" rel=\"bookmark\">\\n          <span id=\"node-1342-title\" class=\"apicProductName apicTruncate\">\\n<span>FaSta - Station Facilities Status</span>\\n</span>\\n        </a>\\n                  <div class=\"apicProductTeaserVersion\">\\n            <div class=\"field field--name-apic-version field--type-string field--label-hidden field--item\">2.1.359</div>\\n      </div>\\n              </div>\\n          </div>\\n          <div class=\"apicProductDesc summary\"\\n           title=\"A RESTful webservice to retrieve data about the operational state of public elevators and escalators in german railway stations operated by DB Station&amp;Service AG.\">\\n  <div class=\"field field--name-apic-summary field--type-string-long field--label-above\">\\n    <div class=\"field--label\">Zusammenfassung</div>\\n              <div class=\"field--item\">A RESTful webservice to retrieve data about the operational state of public elevators and escalators in german railway stations operated by DB Station&amp;Service AG.</div>\\n          </div>\\n</div>\\n          </div>\\n</article>\\n\\n  </div>\\n    <div class=\"masonry-item views-row\">\\n    <article id=\"node-26497\"  data-history-node-id=\"26497\" role=\"article\" lang=\"en\" about=\"/db-api-marketplace/apis/node/26497\" aria-labelledby=\"node-26497-title\" class=\"node node--id-26497 node--type-product node--view-mode-teaser productnodeid-26497 producttitle-timetables productversion-10213 productstate-\" aria-label=\"Timetables\">\\n          <div class=\"apicProductTeaser\">\\n          <div class=\"apicTeaserIcon product-picture-small-neutral\">\\n      </div>\\n    \\n    <div class=\"apicProductTeaserTags\"></div>\\n\\n    <div class=\"apicProductTeaserMain\">\\n      <div class=\"bx--about__title--name\" data-toggle=\"tooltip\" data-placement=\"bottom\"\\n           title=\"Timetables\">\\n        <a href=\"/db-api-marketplace/apis/product/timetables\" rel=\"bookmark\">\\n          <span id=\"node-26497-title\" class=\"apicProductName apicTruncate\">\\n<span>Timetables</span>\\n</span>\\n        </a>\\n                  <div class=\"apicProductTeaserVersion\">\\n            <div class=\"field field--name-apic-version field--type-string field--label-hidden field--item\">1.0.213</div>\\n      </div>\\n              </div>\\n          </div>\\n          <div class=\"apicProductDesc summary\"\\n           title=\"Der Service liefert Informationen zu Ank\\xc3\\xbcnften und Abfahrten in Form von Gleistafeln und Informationen zu einer Fahrt eines Zuges.\">\\n  <div class=\"field field--name-apic-summary field--type-string-long field--label-above\">\\n    <div class=\"field--label\">Zusammenfassung</div>\\n              <div class=\"field--item\">Der Service liefert Informationen zu Ank\\xc3\\xbcnften und Abfahrten in Form von Gleistafeln und Informationen zu einer Fahrt eines Zuges.</div>\\n          </div>\\n</div>\\n          </div>\\n</article>\\n\\n  </div>\\n    <div class=\"masonry-item views-row\">\\n    <article id=\"node-53599\"  data-history-node-id=\"53599\" role=\"article\" lang=\"en\" about=\"/db-api-marketplace/apis/node/53599\" aria-labelledby=\"node-53599-title\" class=\"node node--id-53599 node--type-product node--view-mode-teaser productnodeid-53599 producttitle-stada---station-data productversion-27421 productstate-\" aria-label=\"StaDa - Station Data\">\\n          <div class=\"apicProductTeaser\">\\n          <div class=\"apicTeaserIcon product-picture-small-neutral\">\\n      </div>\\n    \\n    <div class=\"apicProductTeaserTags\"></div>\\n\\n    <div class=\"apicProductTeaserMain\">\\n      <div class=\"bx--about__title--name\" data-toggle=\"tooltip\" data-placement=\"bottom\"\\n           title=\"StaDa - Station Data\">\\n        <a href=\"/db-api-marketplace/apis/product/stada\" rel=\"bookmark\">\\n          <span id=\"node-53599-title\" class=\"apicProductName apicTruncate\">\\n<span>StaDa - Station Data</span>\\n</span>\\n        </a>\\n                  <div class=\"apicProductTeaserVersion\">\\n            <div class=\"field field--name-apic-version field--type-string field--label-hidden field--item\">2.7.421</div>\\n      </div>\\n              </div>\\n          </div>\\n          <div class=\"apicProductDesc summary\"\\n           title=\"Der Service liefert Informationen - wie Parkm\\xc3\\xb6glichkeiten, Barrierefreiheit oder \\xc3\\x96ffnungszeiten - von Bahnh\\xc3\\xb6fen der Deutschen Bahn.\">\\n  <div class=\"field field--name-apic-summary field--type-string-long field--label-above\">\\n    <div class=\"field--label\">Zusammenfassung</div>\\n              <div class=\"field--item\">Der Service liefert Informationen - wie Parkm\\xc3\\xb6glichkeiten, Barrierefreiheit oder \\xc3\\x96ffnungszeiten - von Bahnh\\xc3\\xb6fen der Deutschen Bahn.</div>\\n          </div>\\n</div>\\n          </div>\\n</article>\\n\\n  </div>\\n    <div class=\"masonry-item views-row\">\\n    <article id=\"node-55144\"  data-history-node-id=\"55144\" role=\"article\" lang=\"en\" about=\"/db-api-marketplace/apis/node/55144\" aria-labelledby=\"node-55144-title\" class=\"node node--id-55144 node--type-product node--view-mode-teaser productnodeid-55144 producttitle-parking-information-service---db-bahnpark productversion-21666 productstate-\" aria-label=\"Parking Information Service - DB Bahnpark\">\\n          <div class=\"apicProductTeaser\">\\n          <div class=\"apicTeaserIcon product-picture-small-neutral\">\\n      </div>\\n    \\n    <div class=\"apicProductTeaserTags\"></div>\\n\\n    <div class=\"apicProductTeaserMain\">\\n      <div class=\"bx--about__title--name\" data-toggle=\"tooltip\" data-placement=\"bottom\"\\n           title=\"Parking Information Service - DB Bahnpark\">\\n        <a href=\"/db-api-marketplace/apis/product/parking-information-db-bahnpark\" rel=\"bookmark\">\\n          <span id=\"node-55144-title\" class=\"apicProductName apicTruncate\">\\n<span>Parking Information Service - DB Bahnpark</span>\\n</span>\\n        </a>\\n                  <div class=\"apicProductTeaserVersion\">\\n            <div class=\"field field--name-apic-version field--type-string field--label-hidden field--item\">2.1.666</div>\\n      </div>\\n              </div>\\n          </div>\\n          <div class=\"apicProductDesc summary\"\\n           title=\"Der Service liefert Informationen zu Parkr\\xc3\\xa4umen in Deutschland in Bahnhofsn\\xc3\\xa4he \\xc3\\xbcberwiegend von DB Bahnpark.\">\\n  <div class=\"field field--name-apic-summary field--type-string-long field--label-above\">\\n    <div class=\"field--label\">Zusammenfassung</div>\\n              <div class=\"field--item\">Der Service liefert Informationen zu Parkr\\xc3\\xa4umen in Deutschland in Bahnhofsn\\xc3\\xa4he \\xc3\\xbcberwiegend von DB Bahnpark.</div>\\n          </div>\\n</div>\\n          </div>\\n</article>\\n\\n  </div>\\n\\n</div>\\n\\n    </div>\\n  \\n          </div>\\n</div>\\n\\n  </section>\\n\\n\\n  </div>\\n\\n              </section>\\n\\n                </div>\\n  </div>\\n\\n\\n\\n      <footer class=\"footer container\" role=\"contentinfo\">\\n        <div class=\"region region-footer\" aria-label=\"footer\">\\n    <nav role=\"navigation\" aria-labelledby=\"block-dbfooter-menu\" id=\"block-dbfooter\" class=\"block-db-footer\">\\n            \\n  <h2 class=\"visually-hidden\" id=\"block-dbfooter-menu\">DB footer</h2>\\n  \\n\\n        \\n      <ul class=\"menu menu--db-footer nav\">\\n                      <li class=\"first\">\\n                                        <a href=\"/db-api-marketplace/apis/contact\" data-drupal-link-system-path=\"contact\">Kontakt</a>\\n              </li>\\n                      <li>\\n                                        <a href=\"/db-api-marketplace/apis/privacypolicy\" data-drupal-link-system-path=\"node/57163\">Datenschutz</a>\\n              </li>\\n                      <li>\\n                                        <a href=\"/db-api-marketplace/apis/imprint\" data-drupal-link-system-path=\"node/57160\">Impressum</a>\\n              </li>\\n                      <li class=\"last\">\\n                                        <a href=\"/db-api-marketplace/apis/nutzungsbedingungen\" data-drupal-link-system-path=\"node/57157\">Nutzungsbedingungen</a>\\n              </li>\\n        </ul>\\n  \\n\\n  </nav>\\n\\n  </div>\\n\\n    </footer>\\n  \\n  </div>\\n\\n\\n<script type=\"application/json\" data-drupal-selector=\"drupal-settings-json\">{\"path\":{\"baseUrl\":\"\\\\/db-api-marketplace\\\\/apis\\\\/\",\"scriptPath\":null,\"pathPrefix\":\"\",\"currentPath\":\"node\\\\/57172\",\"currentPathIsAdmin\":false,\"isFront\":false,\"currentLanguage\":\"de\"},\"pluralDelimiter\":\"\\\\u0003\",\"suppressDeprecationErrors\":true,\"masonry\":{\".masonry-layout-neueste-services\":{\"masonry_ids\":[\"masonry_view\",\"masonry_view_neueste_services\",\"masonry_view_display_block_1\"],\"item_selector\":\".masonry-item\",\"column_width\":\"\",\"column_width_units\":\"px\",\"gutter_width\":0,\"resizable\":true,\"animated\":true,\"animation_duration\":500,\"fit_width\":false,\"rtl\":false,\"images_first\":true,\"images_lazyload\":false,\"lazyload_selector\":\"lazyload\",\"lazyloaded_selector\":\"lazyloaded\",\"stamp\":\"\",\"percent_position\":false,\"extra_options\":[]}},\"ajaxPageState\":{\"libraries\":\"bootstrap\\\\/popover,connect_theme\\\\/dropit,connect_theme\\\\/social_media_links,dbopenapi_theme\\\\/fonts,dbopenapi_theme\\\\/global-styling,eu_cookie_compliance\\\\/eu_cookie_compliance_bare,extlink\\\\/drupal.extlink,ibm_apim\\\\/core,page_load_progress\\\\/page_load_progress,product\\\\/basic,social_media_links\\\\/social_media_links.theme,system\\\\/base,views\\\\/views.module\",\"theme\":\"dbopenapi_theme\",\"theme_token\":null},\"ajaxTrustedUrl\":[],\"page_load_progress\":{\"delay\":10,\"elements\":\".page-load-progress-submit\",\"internal_links\":false,\"esc_key\":true,\"loading_string\":\"Laden\"},\"data\":{\"extlink\":{\"extTarget\":true,\"extTargetNoOverride\":true,\"extNofollow\":true,\"extNoreferrer\":true,\"extFollowNoOverride\":false,\"extClass\":\"ext\",\"extLabel\":\"(Link ist extern)\",\"extImgClass\":false,\"extSubdomains\":true,\"extExclude\":\"\",\"extInclude\":\"\",\"extCssExclude\":\"\",\"extCssExplicit\":\"\",\"extAlert\":false,\"extAlertText\":\"Dieser Link ruft eine externe Website auf. F\\\\u00fcr den Inhalt dieser Website sind wir nicht verantwortlich.\",\"mailtoClass\":\"mailto\",\"mailtoLabel\":\"(Link sendet E-Mail)\",\"extUseFontAwesome\":false,\"extIconPlacement\":\"append\",\"extFaLinkClasses\":\"fa fa-external-link\",\"extFaMailtoClasses\":\"fa fa-envelope-o\",\"whitelistedDomains\":[]}},\"eu_cookie_compliance\":{\"cookie_policy_version\":\"1.0.0\",\"popup_enabled\":false,\"popup_agreed_enabled\":false,\"popup_hide_agreed\":false,\"popup_clicking_confirmation\":false,\"popup_scrolling_confirmation\":false,\"popup_html_info\":false,\"use_mobile_message\":false,\"mobile_popup_html_info\":false,\"mobile_breakpoint\":768,\"popup_html_agreed\":false,\"popup_use_bare_css\":true,\"popup_height\":\"auto\",\"popup_width\":\"100%\",\"popup_delay\":1000,\"popup_link\":\"\\\\/db-api-marketplace\\\\/apis\\\\/privacy\",\"popup_link_new_window\":true,\"popup_position\":false,\"fixed_top_position\":true,\"popup_language\":\"de\",\"store_consent\":true,\"better_support_for_screen_readers\":false,\"cookie_name\":\"\",\"reload_page\":false,\"domain\":\"\",\"domain_all_sites\":false,\"popup_eu_only\":false,\"popup_eu_only_js\":false,\"cookie_lifetime\":100,\"cookie_session\":0,\"set_cookie_session_zero_on_disagree\":null,\"disagree_do_not_show_popup\":false,\"method\":\"default\",\"automatic_cookies_removal\":false,\"allowed_cookies\":\"\",\"withdraw_markup\":\"\\\\u003Cbutton type=\\\\u0022button\\\\u0022 class=\\\\u0022eu-cookie-withdraw-tab\\\\u0022\\\\u003E\\\\u003C\\\\/button\\\\u003E\\\\n\\\\u003Cdiv aria-labelledby=\\\\u0022popup-text\\\\u0022 class=\\\\u0022eu-cookie-withdraw-banner\\\\u0022\\\\u003E\\\\n  \\\\u003Cdiv class=\\\\u0022popup-content info eu-cookie-compliance-content\\\\u0022\\\\u003E\\\\n    \\\\u003Cdiv id=\\\\u0022popup-text\\\\u0022 class=\\\\u0022eu-cookie-compliance-message\\\\u0022 role=\\\\u0022document\\\\u0022\\\\u003E\\\\n      \\\\n    \\\\u003C\\\\/div\\\\u003E\\\\n    \\\\u003Cdiv id=\\\\u0022popup-buttons\\\\u0022 class=\\\\u0022eu-cookie-compliance-buttons\\\\u0022\\\\u003E\\\\n      \\\\u003Cbutton type=\\\\u0022button\\\\u0022 class=\\\\u0022eu-cookie-withdraw-button \\\\u0022\\\\u003EZustimmung zur\\\\u00fcckziehen\\\\u003C\\\\/button\\\\u003E\\\\n    \\\\u003C\\\\/div\\\\u003E\\\\n  \\\\u003C\\\\/div\\\\u003E\\\\n\\\\u003C\\\\/div\\\\u003E\",\"withdraw_enabled\":false,\"reload_options\":null,\"reload_routes_list\":null,\"withdraw_button_on_info_popup\":false,\"cookie_categories\":[],\"cookie_categories_details\":[],\"enable_save_preferences_button\":false,\"cookie_value_disagreed\":\"0\",\"cookie_value_agreed_show_thank_you\":\"1\",\"cookie_value_agreed\":\"2\",\"containing_element\":null,\"settings_tab_enabled\":null,\"olivero_primary_button_classes\":\"\",\"olivero_secondary_button_classes\":\"\",\"close_button_action\":\"close_banner\",\"open_by_default\":false,\"modules_allow_popup\":true,\"hide_the_banner\":false,\"geoip_match\":true},\"bootstrap\":{\"forms_has_error_value_toggle\":1,\"modal_animation\":1,\"modal_backdrop\":\"true\",\"modal_focus_input\":1,\"modal_keyboard\":1,\"modal_select_text\":1,\"modal_show\":1,\"modal_size\":\"\",\"popover_enabled\":1,\"popover_animation\":1,\"popover_auto_close\":1,\"popover_container\":\"body\",\"popover_content\":\"\",\"popover_delay\":\"0\",\"popover_html\":0,\"popover_placement\":\"right\",\"popover_selector\":\"\",\"popover_title\":\"\",\"popover_trigger\":\"click\"},\"user\":{\"uid\":0,\"permissionsHash\":\"98de346a2d04f6c593542394c5cf57e92fe839866089e56affcf7887e58a2e13\"}}</script>\\n<script src=\"https://developers.deutschebahn.com/db-api-marketplace/apis/sites/db-api-marketplace.apis.developers.deutschebahn.com/files/js/js_lhx4ECeqNNQ4fMTCPzF5cAacUCT9U98GBvPVZ8fBc3w.js\"></script>\\n<script src=\"https://developers.deutschebahn.com/db-api-marketplace/apis/modules/eu_cookie_compliance/js/eu_cookie_compliance.min.js?v=9.4.8\" defer></script>\\n<script src=\"https://developers.deutschebahn.com/db-api-marketplace/apis/sites/db-api-marketplace.apis.developers.deutschebahn.com/files/js/js_Vr7Ss94WtU3f_BlXWWuIiNsEcEouQPqYNGD17q-8XHA.js\"></script>\\n\\n</body>\\n</html>\\n'"
      ]
     },
     "execution_count": 47,
     "metadata": {},
     "output_type": "execute_result"
    }
   ],
   "source": [
    "my_gzip_stream.read()"
   ]
  },
  {
   "cell_type": "code",
   "execution_count": 42,
   "id": "39afcc51",
   "metadata": {},
   "outputs": [
    {
     "ename": "BadGzipFile",
     "evalue": "Not a gzipped file (b'YP')",
     "output_type": "error",
     "traceback": [
      "\u001b[0;31m---------------------------------------------------------------------------\u001b[0m",
      "\u001b[0;31mBadGzipFile\u001b[0m                               Traceback (most recent call last)",
      "Cell \u001b[0;32mIn[42], line 2\u001b[0m\n\u001b[1;32m      1\u001b[0m \u001b[38;5;28;01mwith\u001b[39;00m gzip\u001b[38;5;241m.\u001b[39mopen(my_gzip_stream,\u001b[38;5;124m'\u001b[39m\u001b[38;5;124mr\u001b[39m\u001b[38;5;124m'\u001b[39m) \u001b[38;5;28;01mas\u001b[39;00m fin:        \n\u001b[0;32m----> 2\u001b[0m     \u001b[38;5;28;01mfor\u001b[39;00m line \u001b[38;5;129;01min\u001b[39;00m fin:        \n\u001b[1;32m      3\u001b[0m         \u001b[38;5;28mprint\u001b[39m(\u001b[38;5;124m'\u001b[39m\u001b[38;5;124mgot line\u001b[39m\u001b[38;5;124m'\u001b[39m, line)\n",
      "File \u001b[0;32m/opt/homebrew/Cellar/python@3.11/3.11.1/Frameworks/Python.framework/Versions/3.11/lib/python3.11/gzip.py:399\u001b[0m, in \u001b[0;36mGzipFile.readline\u001b[0;34m(self, size)\u001b[0m\n\u001b[1;32m    397\u001b[0m \u001b[38;5;28;01mdef\u001b[39;00m \u001b[38;5;21mreadline\u001b[39m(\u001b[38;5;28mself\u001b[39m, size\u001b[38;5;241m=\u001b[39m\u001b[38;5;241m-\u001b[39m\u001b[38;5;241m1\u001b[39m):\n\u001b[1;32m    398\u001b[0m     \u001b[38;5;28mself\u001b[39m\u001b[38;5;241m.\u001b[39m_check_not_closed()\n\u001b[0;32m--> 399\u001b[0m     \u001b[38;5;28;01mreturn\u001b[39;00m \u001b[38;5;28;43mself\u001b[39;49m\u001b[38;5;241;43m.\u001b[39;49m\u001b[43m_buffer\u001b[49m\u001b[38;5;241;43m.\u001b[39;49m\u001b[43mreadline\u001b[49m\u001b[43m(\u001b[49m\u001b[43msize\u001b[49m\u001b[43m)\u001b[49m\n",
      "File \u001b[0;32m/opt/homebrew/Cellar/python@3.11/3.11.1/Frameworks/Python.framework/Versions/3.11/lib/python3.11/_compression.py:68\u001b[0m, in \u001b[0;36mDecompressReader.readinto\u001b[0;34m(self, b)\u001b[0m\n\u001b[1;32m     66\u001b[0m \u001b[38;5;28;01mdef\u001b[39;00m \u001b[38;5;21mreadinto\u001b[39m(\u001b[38;5;28mself\u001b[39m, b):\n\u001b[1;32m     67\u001b[0m     \u001b[38;5;28;01mwith\u001b[39;00m \u001b[38;5;28mmemoryview\u001b[39m(b) \u001b[38;5;28;01mas\u001b[39;00m view, view\u001b[38;5;241m.\u001b[39mcast(\u001b[38;5;124m\"\u001b[39m\u001b[38;5;124mB\u001b[39m\u001b[38;5;124m\"\u001b[39m) \u001b[38;5;28;01mas\u001b[39;00m byte_view:\n\u001b[0;32m---> 68\u001b[0m         data \u001b[38;5;241m=\u001b[39m \u001b[38;5;28;43mself\u001b[39;49m\u001b[38;5;241;43m.\u001b[39;49m\u001b[43mread\u001b[49m\u001b[43m(\u001b[49m\u001b[38;5;28;43mlen\u001b[39;49m\u001b[43m(\u001b[49m\u001b[43mbyte_view\u001b[49m\u001b[43m)\u001b[49m\u001b[43m)\u001b[49m\n\u001b[1;32m     69\u001b[0m         byte_view[:\u001b[38;5;28mlen\u001b[39m(data)] \u001b[38;5;241m=\u001b[39m data\n\u001b[1;32m     70\u001b[0m     \u001b[38;5;28;01mreturn\u001b[39;00m \u001b[38;5;28mlen\u001b[39m(data)\n",
      "File \u001b[0;32m/opt/homebrew/Cellar/python@3.11/3.11.1/Frameworks/Python.framework/Versions/3.11/lib/python3.11/gzip.py:499\u001b[0m, in \u001b[0;36m_GzipReader.read\u001b[0;34m(self, size)\u001b[0m\n\u001b[1;32m    495\u001b[0m \u001b[38;5;28;01mif\u001b[39;00m \u001b[38;5;28mself\u001b[39m\u001b[38;5;241m.\u001b[39m_new_member:\n\u001b[1;32m    496\u001b[0m     \u001b[38;5;66;03m# If the _new_member flag is set, we have to\u001b[39;00m\n\u001b[1;32m    497\u001b[0m     \u001b[38;5;66;03m# jump to the next member, if there is one.\u001b[39;00m\n\u001b[1;32m    498\u001b[0m     \u001b[38;5;28mself\u001b[39m\u001b[38;5;241m.\u001b[39m_init_read()\n\u001b[0;32m--> 499\u001b[0m     \u001b[38;5;28;01mif\u001b[39;00m \u001b[38;5;129;01mnot\u001b[39;00m \u001b[38;5;28;43mself\u001b[39;49m\u001b[38;5;241;43m.\u001b[39;49m\u001b[43m_read_gzip_header\u001b[49m\u001b[43m(\u001b[49m\u001b[43m)\u001b[49m:\n\u001b[1;32m    500\u001b[0m         \u001b[38;5;28mself\u001b[39m\u001b[38;5;241m.\u001b[39m_size \u001b[38;5;241m=\u001b[39m \u001b[38;5;28mself\u001b[39m\u001b[38;5;241m.\u001b[39m_pos\n\u001b[1;32m    501\u001b[0m         \u001b[38;5;28;01mreturn\u001b[39;00m \u001b[38;5;124mb\u001b[39m\u001b[38;5;124m\"\u001b[39m\u001b[38;5;124m\"\u001b[39m\n",
      "File \u001b[0;32m/opt/homebrew/Cellar/python@3.11/3.11.1/Frameworks/Python.framework/Versions/3.11/lib/python3.11/gzip.py:468\u001b[0m, in \u001b[0;36m_GzipReader._read_gzip_header\u001b[0;34m(self)\u001b[0m\n\u001b[1;32m    467\u001b[0m \u001b[38;5;28;01mdef\u001b[39;00m \u001b[38;5;21m_read_gzip_header\u001b[39m(\u001b[38;5;28mself\u001b[39m):\n\u001b[0;32m--> 468\u001b[0m     last_mtime \u001b[38;5;241m=\u001b[39m \u001b[43m_read_gzip_header\u001b[49m\u001b[43m(\u001b[49m\u001b[38;5;28;43mself\u001b[39;49m\u001b[38;5;241;43m.\u001b[39;49m\u001b[43m_fp\u001b[49m\u001b[43m)\u001b[49m\n\u001b[1;32m    469\u001b[0m     \u001b[38;5;28;01mif\u001b[39;00m last_mtime \u001b[38;5;129;01mis\u001b[39;00m \u001b[38;5;28;01mNone\u001b[39;00m:\n\u001b[1;32m    470\u001b[0m         \u001b[38;5;28;01mreturn\u001b[39;00m \u001b[38;5;28;01mFalse\u001b[39;00m\n",
      "File \u001b[0;32m/opt/homebrew/Cellar/python@3.11/3.11.1/Frameworks/Python.framework/Versions/3.11/lib/python3.11/gzip.py:428\u001b[0m, in \u001b[0;36m_read_gzip_header\u001b[0;34m(fp)\u001b[0m\n\u001b[1;32m    425\u001b[0m     \u001b[38;5;28;01mreturn\u001b[39;00m \u001b[38;5;28;01mNone\u001b[39;00m\n\u001b[1;32m    427\u001b[0m \u001b[38;5;28;01mif\u001b[39;00m magic \u001b[38;5;241m!=\u001b[39m \u001b[38;5;124mb\u001b[39m\u001b[38;5;124m'\u001b[39m\u001b[38;5;130;01m\\037\u001b[39;00m\u001b[38;5;130;01m\\213\u001b[39;00m\u001b[38;5;124m'\u001b[39m:\n\u001b[0;32m--> 428\u001b[0m     \u001b[38;5;28;01mraise\u001b[39;00m BadGzipFile(\u001b[38;5;124m'\u001b[39m\u001b[38;5;124mNot a gzipped file (\u001b[39m\u001b[38;5;132;01m%r\u001b[39;00m\u001b[38;5;124m)\u001b[39m\u001b[38;5;124m'\u001b[39m \u001b[38;5;241m%\u001b[39m magic)\n\u001b[1;32m    430\u001b[0m (method, flag, last_mtime) \u001b[38;5;241m=\u001b[39m struct\u001b[38;5;241m.\u001b[39munpack(\u001b[38;5;124m\"\u001b[39m\u001b[38;5;124m<BBIxx\u001b[39m\u001b[38;5;124m\"\u001b[39m, _read_exact(fp, \u001b[38;5;241m8\u001b[39m))\n\u001b[1;32m    431\u001b[0m \u001b[38;5;28;01mif\u001b[39;00m method \u001b[38;5;241m!=\u001b[39m \u001b[38;5;241m8\u001b[39m:\n",
      "\u001b[0;31mBadGzipFile\u001b[0m: Not a gzipped file (b'YP')"
     ]
    }
   ],
   "source": [
    "with gzip.open(my_gzip_stream,'r') as fin:        \n",
    "    for line in fin:        \n",
    "        print('got line', line)"
   ]
  },
  {
   "cell_type": "code",
   "execution_count": null,
   "id": "d5d5e995",
   "metadata": {},
   "outputs": [],
   "source": []
  },
  {
   "cell_type": "code",
   "execution_count": 41,
   "id": "7ba96fc1",
   "metadata": {},
   "outputs": [
    {
     "ename": "AttributeError",
     "evalue": "'GzipFile' object has no attribute 'version'",
     "output_type": "error",
     "traceback": [
      "\u001b[0;31m---------------------------------------------------------------------------\u001b[0m",
      "\u001b[0;31mAttributeError\u001b[0m                            Traceback (most recent call last)",
      "Cell \u001b[0;32mIn[41], line 1\u001b[0m\n\u001b[0;32m----> 1\u001b[0m \u001b[43mmy_stream\u001b[49m\u001b[38;5;241;43m.\u001b[39;49m\u001b[43mversion\u001b[49m\n",
      "\u001b[0;31mAttributeError\u001b[0m: 'GzipFile' object has no attribute 'version'"
     ]
    }
   ],
   "source": [
    "my_stream.version"
   ]
  },
  {
   "cell_type": "code",
   "execution_count": 39,
   "id": "6d51b4b5",
   "metadata": {},
   "outputs": [
    {
     "ename": "TypeError",
     "evalue": "readinto() argument must be read-write bytes-like object, not int",
     "output_type": "error",
     "traceback": [
      "\u001b[0;31m---------------------------------------------------------------------------\u001b[0m",
      "\u001b[0;31mTypeError\u001b[0m                                 Traceback (most recent call last)",
      "Cell \u001b[0;32mIn[39], line 1\u001b[0m\n\u001b[0;32m----> 1\u001b[0m \u001b[43mmy_stream\u001b[49m\u001b[38;5;241;43m.\u001b[39;49m\u001b[43mreadinto\u001b[49m\u001b[43m(\u001b[49m\u001b[38;5;241;43m16\u001b[39;49m\u001b[43m)\u001b[49m\n",
      "\u001b[0;31mTypeError\u001b[0m: readinto() argument must be read-write bytes-like object, not int"
     ]
    }
   ],
   "source": [
    "my_stream.readinto(16)"
   ]
  },
  {
   "cell_type": "code",
   "execution_count": 24,
   "id": "2dcbe4e0",
   "metadata": {},
   "outputs": [],
   "source": [
    "# file_content = my_stream.read()\n",
    "# print(file_content)"
   ]
  },
  {
   "cell_type": "code",
   "execution_count": null,
   "id": "6a45fd06",
   "metadata": {},
   "outputs": [],
   "source": []
  },
  {
   "cell_type": "code",
   "execution_count": 27,
   "id": "31bc3da0",
   "metadata": {},
   "outputs": [
    {
     "ename": "ModuleNotFoundError",
     "evalue": "No module named 'StringIO'",
     "output_type": "error",
     "traceback": [
      "\u001b[0;31m---------------------------------------------------------------------------\u001b[0m",
      "\u001b[0;31mModuleNotFoundError\u001b[0m                       Traceback (most recent call last)",
      "Cell \u001b[0;32mIn[27], line 2\u001b[0m\n\u001b[1;32m      1\u001b[0m \u001b[38;5;66;03m# import urllib2 \u001b[39;00m\n\u001b[0;32m----> 2\u001b[0m \u001b[38;5;28;01mfrom\u001b[39;00m \u001b[38;5;21;01mStringIO\u001b[39;00m \u001b[38;5;28;01mimport\u001b[39;00m StringIO\n\u001b[1;32m      3\u001b[0m \u001b[38;5;66;03m# import gzip\u001b[39;00m\n",
      "\u001b[0;31mModuleNotFoundError\u001b[0m: No module named 'StringIO'"
     ]
    }
   ],
   "source": [
    "# import urllib2 \n",
    "from StringIO import StringIO\n",
    "# import gzip"
   ]
  },
  {
   "cell_type": "code",
   "execution_count": 34,
   "id": "8f8dfed3",
   "metadata": {},
   "outputs": [],
   "source": [
    "import io\n",
    "import urllib\n",
    "import opener"
   ]
  },
  {
   "cell_type": "code",
   "execution_count": 35,
   "id": "763627dd",
   "metadata": {},
   "outputs": [
    {
     "ename": "AttributeError",
     "evalue": "module 'opener' has no attribute 'open'",
     "output_type": "error",
     "traceback": [
      "\u001b[0;31m---------------------------------------------------------------------------\u001b[0m",
      "\u001b[0;31mAttributeError\u001b[0m                            Traceback (most recent call last)",
      "Cell \u001b[0;32mIn[35], line 4\u001b[0m\n\u001b[1;32m      1\u001b[0m \u001b[38;5;66;03m# request2 = urllib.request(url)\u001b[39;00m\n\u001b[1;32m      2\u001b[0m \u001b[38;5;66;03m# request2.add_header('Accept-encoding', 'gzip,deflate')\u001b[39;00m\n\u001b[0;32m----> 4\u001b[0m response2 \u001b[38;5;241m=\u001b[39m \u001b[43mopener\u001b[49m\u001b[38;5;241;43m.\u001b[39;49m\u001b[43mopen\u001b[49m(request)\n",
      "\u001b[0;31mAttributeError\u001b[0m: module 'opener' has no attribute 'open'"
     ]
    }
   ],
   "source": [
    "# request2 = urllib.request(url)\n",
    "# request2.add_header('Accept-encoding', 'gzip,deflate')\n",
    "\n",
    "response2 = opener.open(request)"
   ]
  },
  {
   "cell_type": "code",
   "execution_count": 29,
   "id": "6f93806e",
   "metadata": {},
   "outputs": [
    {
     "ename": "AttributeError",
     "evalue": "'Response' object has no attribute 'read'",
     "output_type": "error",
     "traceback": [
      "\u001b[0;31m---------------------------------------------------------------------------\u001b[0m",
      "\u001b[0;31mAttributeError\u001b[0m                            Traceback (most recent call last)",
      "Cell \u001b[0;32mIn[29], line 1\u001b[0m\n\u001b[0;32m----> 1\u001b[0m buffer \u001b[38;5;241m=\u001b[39m io\u001b[38;5;241m.\u001b[39mStringIO(\u001b[43mresponse\u001b[49m\u001b[38;5;241;43m.\u001b[39;49m\u001b[43mread\u001b[49m())\n\u001b[1;32m      2\u001b[0m deflatedContent \u001b[38;5;241m=\u001b[39m gzip\u001b[38;5;241m.\u001b[39mGzipFile(fileobj\u001b[38;5;241m=\u001b[39mbuffer)\n\u001b[1;32m      4\u001b[0m deflatedContent\u001b[38;5;241m.\u001b[39mread()\n",
      "\u001b[0;31mAttributeError\u001b[0m: 'Response' object has no attribute 'read'"
     ]
    }
   ],
   "source": [
    "buffer = io.StringIO(response.read())\n",
    "deflatedContent = gzip.GzipFile(fileobj=buffer)\n",
    "\n",
    "deflatedContent.read()"
   ]
  },
  {
   "cell_type": "code",
   "execution_count": null,
   "id": "d8d2010d",
   "metadata": {},
   "outputs": [],
   "source": []
  },
  {
   "cell_type": "code",
   "execution_count": null,
   "id": "f2584733",
   "metadata": {},
   "outputs": [],
   "source": []
  },
  {
   "cell_type": "code",
   "execution_count": 25,
   "id": "a677cfc7",
   "metadata": {},
   "outputs": [
    {
     "ename": "BadGzipFile",
     "evalue": "Not a gzipped file (b'<!')",
     "output_type": "error",
     "traceback": [
      "\u001b[0;31m---------------------------------------------------------------------------\u001b[0m",
      "\u001b[0;31mBadGzipFile\u001b[0m                               Traceback (most recent call last)",
      "Cell \u001b[0;32mIn[25], line 2\u001b[0m\n\u001b[1;32m      1\u001b[0m content \u001b[38;5;241m=\u001b[39m response\u001b[38;5;241m.\u001b[39mcontent\n\u001b[0;32m----> 2\u001b[0m text \u001b[38;5;241m=\u001b[39m \u001b[43mgzip\u001b[49m\u001b[38;5;241;43m.\u001b[39;49m\u001b[43mdecompress\u001b[49m\u001b[43m(\u001b[49m\u001b[43mcontent\u001b[49m\u001b[43m)\u001b[49m\u001b[38;5;241m.\u001b[39mdecode(\u001b[38;5;124m'\u001b[39m\u001b[38;5;124mutf-8\u001b[39m\u001b[38;5;124m'\u001b[39m)\n",
      "File \u001b[0;32m/opt/homebrew/Cellar/python@3.11/3.11.1/Frameworks/Python.framework/Versions/3.11/lib/python3.11/gzip.py:601\u001b[0m, in \u001b[0;36mdecompress\u001b[0;34m(data)\u001b[0m\n\u001b[1;32m    599\u001b[0m \u001b[38;5;28;01mwhile\u001b[39;00m \u001b[38;5;28;01mTrue\u001b[39;00m:\n\u001b[1;32m    600\u001b[0m     fp \u001b[38;5;241m=\u001b[39m io\u001b[38;5;241m.\u001b[39mBytesIO(data)\n\u001b[0;32m--> 601\u001b[0m     \u001b[38;5;28;01mif\u001b[39;00m \u001b[43m_read_gzip_header\u001b[49m\u001b[43m(\u001b[49m\u001b[43mfp\u001b[49m\u001b[43m)\u001b[49m \u001b[38;5;129;01mis\u001b[39;00m \u001b[38;5;28;01mNone\u001b[39;00m:\n\u001b[1;32m    602\u001b[0m         \u001b[38;5;28;01mreturn\u001b[39;00m \u001b[38;5;124mb\u001b[39m\u001b[38;5;124m\"\u001b[39m\u001b[38;5;124m\"\u001b[39m\u001b[38;5;241m.\u001b[39mjoin(decompressed_members)\n\u001b[1;32m    603\u001b[0m     \u001b[38;5;66;03m# Use a zlib raw deflate compressor\u001b[39;00m\n",
      "File \u001b[0;32m/opt/homebrew/Cellar/python@3.11/3.11.1/Frameworks/Python.framework/Versions/3.11/lib/python3.11/gzip.py:428\u001b[0m, in \u001b[0;36m_read_gzip_header\u001b[0;34m(fp)\u001b[0m\n\u001b[1;32m    425\u001b[0m     \u001b[38;5;28;01mreturn\u001b[39;00m \u001b[38;5;28;01mNone\u001b[39;00m\n\u001b[1;32m    427\u001b[0m \u001b[38;5;28;01mif\u001b[39;00m magic \u001b[38;5;241m!=\u001b[39m \u001b[38;5;124mb\u001b[39m\u001b[38;5;124m'\u001b[39m\u001b[38;5;130;01m\\037\u001b[39;00m\u001b[38;5;130;01m\\213\u001b[39;00m\u001b[38;5;124m'\u001b[39m:\n\u001b[0;32m--> 428\u001b[0m     \u001b[38;5;28;01mraise\u001b[39;00m BadGzipFile(\u001b[38;5;124m'\u001b[39m\u001b[38;5;124mNot a gzipped file (\u001b[39m\u001b[38;5;132;01m%r\u001b[39;00m\u001b[38;5;124m)\u001b[39m\u001b[38;5;124m'\u001b[39m \u001b[38;5;241m%\u001b[39m magic)\n\u001b[1;32m    430\u001b[0m (method, flag, last_mtime) \u001b[38;5;241m=\u001b[39m struct\u001b[38;5;241m.\u001b[39munpack(\u001b[38;5;124m\"\u001b[39m\u001b[38;5;124m<BBIxx\u001b[39m\u001b[38;5;124m\"\u001b[39m, _read_exact(fp, \u001b[38;5;241m8\u001b[39m))\n\u001b[1;32m    431\u001b[0m \u001b[38;5;28;01mif\u001b[39;00m method \u001b[38;5;241m!=\u001b[39m \u001b[38;5;241m8\u001b[39m:\n",
      "\u001b[0;31mBadGzipFile\u001b[0m: Not a gzipped file (b'<!')"
     ]
    }
   ],
   "source": [
    "content = response.content\n",
    "text = gzip.decompress(content).decode('utf-8')"
   ]
  },
  {
   "cell_type": "code",
   "execution_count": null,
   "id": "71ac653c",
   "metadata": {},
   "outputs": [],
   "source": []
  },
  {
   "cell_type": "code",
   "execution_count": null,
   "id": "fccdfff8",
   "metadata": {},
   "outputs": [],
   "source": []
  },
  {
   "cell_type": "code",
   "execution_count": null,
   "id": "3f7480a1",
   "metadata": {},
   "outputs": [],
   "source": []
  },
  {
   "cell_type": "code",
   "execution_count": null,
   "id": "76fb239d",
   "metadata": {},
   "outputs": [],
   "source": []
  },
  {
   "cell_type": "code",
   "execution_count": null,
   "id": "68cba9f5",
   "metadata": {},
   "outputs": [],
   "source": [
    "import http\n",
    "import ssl\n",
    "import gzip\n",
    "import zlib\n",
    "from io import BytesIO\n",
    "\n",
    "# your variables here\n",
    "# api = 'your_api_host'\n",
    "# api_url = 'your_api_endpoint'\n",
    "# auth = {'AuhtKeys': 'auth_values'}\n",
    "\n",
    "# add the gzip header\n",
    "# auth['Accept-Encoding'] = 'gzip'\n",
    "\n",
    "# prepare decompressing object\n",
    "decompressor = zlib.decompressobj(16 + zlib.MAX_WBITS)\n",
    "\n",
    "connection = http.client.HTTPSConnection(api, context = ssl._create_unverified_context())\n",
    "connection.request('GET', api_url, headers = auth)\n",
    "response = connection.getresponse()\n",
    "\n",
    "while chunk := response.read(20):\n",
    "    data = decompressor.decompress(BytesIO(chunk).read())\n",
    "    print(data)"
   ]
  },
  {
   "cell_type": "code",
   "execution_count": null,
   "id": "c0cb01fc",
   "metadata": {},
   "outputs": [],
   "source": []
  },
  {
   "cell_type": "code",
   "execution_count": null,
   "id": "4aa71e41",
   "metadata": {},
   "outputs": [],
   "source": []
  },
  {
   "cell_type": "markdown",
   "id": "08e1eced",
   "metadata": {},
   "source": [
    "# WEATHER API"
   ]
  },
  {
   "cell_type": "code",
   "execution_count": null,
   "id": "32e4727c",
   "metadata": {},
   "outputs": [],
   "source": [
    "# https://www.rainviewer.com/api/weather-maps-api.html"
   ]
  },
  {
   "cell_type": "code",
   "execution_count": 62,
   "id": "8174cdbc",
   "metadata": {},
   "outputs": [],
   "source": [
    "weather_url = \"https://api.rainviewer.com/public/weather-maps.json\""
   ]
  },
  {
   "cell_type": "code",
   "execution_count": 63,
   "id": "f018bef9",
   "metadata": {},
   "outputs": [
    {
     "data": {
      "text/plain": [
       "200"
      ]
     },
     "execution_count": 63,
     "metadata": {},
     "output_type": "execute_result"
    }
   ],
   "source": [
    "weather_response = requests.get(weather_url)\n",
    "weather_response.status_code"
   ]
  },
  {
   "cell_type": "code",
   "execution_count": 64,
   "id": "b7e68f98",
   "metadata": {},
   "outputs": [
    {
     "data": {
      "text/plain": [
       "'{\"version\":\"2.0\",\"generated\":1683559520,\"host\":\"https:\\\\/\\\\/tilecache.rainviewer.com\",\"radar\":{\"past\":[{\"time\":1683552000,\"path\":\"\\\\/v2\\\\/radar\\\\/1683552000\"},{\"time\":1683552600,\"path\":\"\\\\/v2\\\\/radar\\\\/1683552600\"},{\"time\":1683553200,\"path\":\"\\\\/v2\\\\/radar\\\\/1683553200\"},{\"time\":1683553800,\"path\":\"\\\\/v2\\\\/radar\\\\/1683553800\"},{\"time\":1683554400,\"path\":\"\\\\/v2\\\\/radar\\\\/1683554400\"},{\"time\":1683555000,\"path\":\"\\\\/v2\\\\/radar\\\\/1683555000\"},{\"time\":1683555600,\"path\":\"\\\\/v2\\\\/radar\\\\/1683555600\"},{\"time\":1683556200,\"path\":\"\\\\/v2\\\\/radar\\\\/1683556200\"},{\"time\":1683556800,\"path\":\"\\\\/v2\\\\/radar\\\\/1683556800\"},{\"time\":1683557400,\"path\":\"\\\\/v2\\\\/radar\\\\/1683557400\"},{\"time\":1683558000,\"path\":\"\\\\/v2\\\\/radar\\\\/1683558000\"},{\"time\":1683558600,\"path\":\"\\\\/v2\\\\/radar\\\\/1683558600\"},{\"time\":1683559200,\"path\":\"\\\\/v2\\\\/radar\\\\/1683559200\"}],\"nowcast\":[{\"time\":1683559800,\"path\":\"\\\\/v2\\\\/radar\\\\/nowcast_a4c4565a77f7\"},{\"time\":1683560400,\"path\":\"\\\\/v2\\\\/radar\\\\/nowcast_a4c4e5c58b3e\"},{\"time\":1683561000,\"path\":\"\\\\/v2\\\\/radar\\\\/nowcast_a4c4e790bfec\"}]},\"satellite\":{\"infrared\":[{\"time\":1683552000,\"path\":\"\\\\/v2\\\\/satellite\\\\/0a50fb9bc9fc\"},{\"time\":1683552600,\"path\":\"\\\\/v2\\\\/satellite\\\\/fceca60b7807\"},{\"time\":1683553200,\"path\":\"\\\\/v2\\\\/satellite\\\\/64d1e224a1e8\"},{\"time\":1683553800,\"path\":\"\\\\/v2\\\\/satellite\\\\/e77d7d2bd52b\"},{\"time\":1683554400,\"path\":\"\\\\/v2\\\\/satellite\\\\/6441e0baf9da\"},{\"time\":1683555000,\"path\":\"\\\\/v2\\\\/satellite\\\\/60fbfa3fdda2\"},{\"time\":1683555600,\"path\":\"\\\\/v2\\\\/satellite\\\\/6badbd944cd7\"},{\"time\":1683556200,\"path\":\"\\\\/v2\\\\/satellite\\\\/8f133f0be5f1\"},{\"time\":1683556800,\"path\":\"\\\\/v2\\\\/satellite\\\\/548bc8951ace\"},{\"time\":1683557400,\"path\":\"\\\\/v2\\\\/satellite\\\\/c76d5dad8d26\"},{\"time\":1683558000,\"path\":\"\\\\/v2\\\\/satellite\\\\/cb8707295368\"},{\"time\":1683558600,\"path\":\"\\\\/v2\\\\/satellite\\\\/424172f13a87\"},{\"time\":1683559200,\"path\":\"\\\\/v2\\\\/satellite\\\\/427d6a8a6ab9\"}]}}'"
      ]
     },
     "execution_count": 64,
     "metadata": {},
     "output_type": "execute_result"
    }
   ],
   "source": [
    "weather_response.text"
   ]
  },
  {
   "cell_type": "code",
   "execution_count": 65,
   "id": "351f211e",
   "metadata": {},
   "outputs": [
    {
     "data": {
      "text/plain": [
       "{'User-Agent': 'python-requests/2.28.1', 'Accept-Encoding': 'gzip, deflate', 'Accept': '*/*', 'Connection': 'keep-alive'}"
      ]
     },
     "execution_count": 65,
     "metadata": {},
     "output_type": "execute_result"
    }
   ],
   "source": [
    "weather_request = weather_response.request\n",
    "weather_request.headers"
   ]
  },
  {
   "cell_type": "code",
   "execution_count": 66,
   "id": "10c06ec3",
   "metadata": {
    "scrolled": true
   },
   "outputs": [
    {
     "data": {
      "text/plain": [
       "{'version': '2.0',\n",
       " 'generated': 1683559520,\n",
       " 'host': 'https://tilecache.rainviewer.com',\n",
       " 'radar': {'past': [{'time': 1683552000, 'path': '/v2/radar/1683552000'},\n",
       "   {'time': 1683552600, 'path': '/v2/radar/1683552600'},\n",
       "   {'time': 1683553200, 'path': '/v2/radar/1683553200'},\n",
       "   {'time': 1683553800, 'path': '/v2/radar/1683553800'},\n",
       "   {'time': 1683554400, 'path': '/v2/radar/1683554400'},\n",
       "   {'time': 1683555000, 'path': '/v2/radar/1683555000'},\n",
       "   {'time': 1683555600, 'path': '/v2/radar/1683555600'},\n",
       "   {'time': 1683556200, 'path': '/v2/radar/1683556200'},\n",
       "   {'time': 1683556800, 'path': '/v2/radar/1683556800'},\n",
       "   {'time': 1683557400, 'path': '/v2/radar/1683557400'},\n",
       "   {'time': 1683558000, 'path': '/v2/radar/1683558000'},\n",
       "   {'time': 1683558600, 'path': '/v2/radar/1683558600'},\n",
       "   {'time': 1683559200, 'path': '/v2/radar/1683559200'}],\n",
       "  'nowcast': [{'time': 1683559800, 'path': '/v2/radar/nowcast_a4c4565a77f7'},\n",
       "   {'time': 1683560400, 'path': '/v2/radar/nowcast_a4c4e5c58b3e'},\n",
       "   {'time': 1683561000, 'path': '/v2/radar/nowcast_a4c4e790bfec'}]},\n",
       " 'satellite': {'infrared': [{'time': 1683552000,\n",
       "    'path': '/v2/satellite/0a50fb9bc9fc'},\n",
       "   {'time': 1683552600, 'path': '/v2/satellite/fceca60b7807'},\n",
       "   {'time': 1683553200, 'path': '/v2/satellite/64d1e224a1e8'},\n",
       "   {'time': 1683553800, 'path': '/v2/satellite/e77d7d2bd52b'},\n",
       "   {'time': 1683554400, 'path': '/v2/satellite/6441e0baf9da'},\n",
       "   {'time': 1683555000, 'path': '/v2/satellite/60fbfa3fdda2'},\n",
       "   {'time': 1683555600, 'path': '/v2/satellite/6badbd944cd7'},\n",
       "   {'time': 1683556200, 'path': '/v2/satellite/8f133f0be5f1'},\n",
       "   {'time': 1683556800, 'path': '/v2/satellite/548bc8951ace'},\n",
       "   {'time': 1683557400, 'path': '/v2/satellite/c76d5dad8d26'},\n",
       "   {'time': 1683558000, 'path': '/v2/satellite/cb8707295368'},\n",
       "   {'time': 1683558600, 'path': '/v2/satellite/424172f13a87'},\n",
       "   {'time': 1683559200, 'path': '/v2/satellite/427d6a8a6ab9'}]}}"
      ]
     },
     "execution_count": 66,
     "metadata": {},
     "output_type": "execute_result"
    }
   ],
   "source": [
    "weather_response.json()"
   ]
  },
  {
   "cell_type": "code",
   "execution_count": 67,
   "id": "8b8ccb67",
   "metadata": {},
   "outputs": [
    {
     "data": {
      "text/plain": [
       "dict_keys(['version', 'generated', 'host', 'radar', 'satellite'])"
      ]
     },
     "execution_count": 67,
     "metadata": {},
     "output_type": "execute_result"
    }
   ],
   "source": [
    "weather_response.json().keys()"
   ]
  },
  {
   "cell_type": "code",
   "execution_count": null,
   "id": "bea29196",
   "metadata": {},
   "outputs": [],
   "source": []
  },
  {
   "cell_type": "code",
   "execution_count": 72,
   "id": "d7a3096d",
   "metadata": {},
   "outputs": [
    {
     "data": {
      "text/plain": [
       "'https://tilecache.rainviewer.com'"
      ]
     },
     "execution_count": 72,
     "metadata": {},
     "output_type": "execute_result"
    }
   ],
   "source": [
    "weather_response.json()['host']"
   ]
  },
  {
   "cell_type": "code",
   "execution_count": null,
   "id": "38679d65",
   "metadata": {},
   "outputs": [],
   "source": []
  },
  {
   "cell_type": "code",
   "execution_count": null,
   "id": "feadd090",
   "metadata": {},
   "outputs": [],
   "source": [
    "# Radar Object\n",
    "\n",
    "# KEY\t\t\tDESCRIPTION\t\t\t\t\t\t\t\t\t\t\t\t\tVALUES\n",
    "# past\t\t\tPast weather radar frames. 2 hours, with 10-minute steps.\tArray(Frame Object)\t \n",
    "# nowcast\t\tFuture weather radar frames. 30 minutes.\t\t\t\t\tArray(Frame Object)\t \n"
   ]
  },
  {
   "cell_type": "code",
   "execution_count": null,
   "id": "3a42b3e4",
   "metadata": {},
   "outputs": [],
   "source": [
    "'''\n",
    "IDEA: TO COMPARE THE FORECAST AND THE PAST (AFTER SOME TIME?)\n",
    "\n",
    "'''"
   ]
  },
  {
   "cell_type": "code",
   "execution_count": null,
   "id": "2ce42ac8",
   "metadata": {},
   "outputs": [],
   "source": [
    "# Frame Object\n",
    "\n",
    "# KEY\tDESCRIPTION\tVALUES\tEXAMPLE\n",
    "# time\tMap frame generation data in UNIX timestamp format (UTC). The map frame typically contains the images (radar, satellite) from different times, so this is not the time of the data rather than frame generation time.\tInt(8)\t1609401600\n",
    "# path\tBase path for the images of that frame. For information on its usage, refer to the next How to use host and path information section of this page\tString(255)\t/v2/satellite/0680143a9470\n"
   ]
  },
  {
   "cell_type": "code",
   "execution_count": 70,
   "id": "a7009448",
   "metadata": {},
   "outputs": [
    {
     "data": {
      "text/plain": [
       "[{'time': 1683552000, 'path': '/v2/radar/1683552000'},\n",
       " {'time': 1683552600, 'path': '/v2/radar/1683552600'},\n",
       " {'time': 1683553200, 'path': '/v2/radar/1683553200'},\n",
       " {'time': 1683553800, 'path': '/v2/radar/1683553800'},\n",
       " {'time': 1683554400, 'path': '/v2/radar/1683554400'},\n",
       " {'time': 1683555000, 'path': '/v2/radar/1683555000'},\n",
       " {'time': 1683555600, 'path': '/v2/radar/1683555600'},\n",
       " {'time': 1683556200, 'path': '/v2/radar/1683556200'},\n",
       " {'time': 1683556800, 'path': '/v2/radar/1683556800'},\n",
       " {'time': 1683557400, 'path': '/v2/radar/1683557400'},\n",
       " {'time': 1683558000, 'path': '/v2/radar/1683558000'},\n",
       " {'time': 1683558600, 'path': '/v2/radar/1683558600'},\n",
       " {'time': 1683559200, 'path': '/v2/radar/1683559200'}]"
      ]
     },
     "execution_count": 70,
     "metadata": {},
     "output_type": "execute_result"
    }
   ],
   "source": [
    "weather_response.json()['radar']['past']"
   ]
  },
  {
   "cell_type": "code",
   "execution_count": 71,
   "id": "55df8d7c",
   "metadata": {},
   "outputs": [
    {
     "data": {
      "text/plain": [
       "[{'time': 1683559800, 'path': '/v2/radar/nowcast_a4c4565a77f7'},\n",
       " {'time': 1683560400, 'path': '/v2/radar/nowcast_a4c4e5c58b3e'},\n",
       " {'time': 1683561000, 'path': '/v2/radar/nowcast_a4c4e790bfec'}]"
      ]
     },
     "execution_count": 71,
     "metadata": {},
     "output_type": "execute_result"
    }
   ],
   "source": [
    "weather_response.json()['radar']['nowcast']"
   ]
  },
  {
   "cell_type": "code",
   "execution_count": null,
   "id": "98665064",
   "metadata": {},
   "outputs": [],
   "source": []
  },
  {
   "cell_type": "code",
   "execution_count": null,
   "id": "f794b6d2",
   "metadata": {},
   "outputs": [],
   "source": [
    "https://tilecache.rainviewer.com/v2/radar/1683561600/512/2/2/1/1/1_1.png"
   ]
  },
  {
   "cell_type": "code",
   "execution_count": null,
   "id": "f0f7e4ef",
   "metadata": {},
   "outputs": [],
   "source": []
  },
  {
   "cell_type": "code",
   "execution_count": null,
   "id": "31e2237d",
   "metadata": {},
   "outputs": [],
   "source": []
  },
  {
   "cell_type": "code",
   "execution_count": null,
   "id": "4df7887b",
   "metadata": {},
   "outputs": [],
   "source": []
  },
  {
   "cell_type": "code",
   "execution_count": null,
   "id": "d0d9c9a0",
   "metadata": {},
   "outputs": [],
   "source": []
  },
  {
   "cell_type": "code",
   "execution_count": null,
   "id": "2fa73939",
   "metadata": {},
   "outputs": [],
   "source": []
  }
 ],
 "metadata": {
  "kernelspec": {
   "display_name": "Python 3 (ipykernel)",
   "language": "python",
   "name": "python3"
  },
  "language_info": {
   "codemirror_mode": {
    "name": "ipython",
    "version": 3
   },
   "file_extension": ".py",
   "mimetype": "text/x-python",
   "name": "python",
   "nbconvert_exporter": "python",
   "pygments_lexer": "ipython3",
   "version": "3.11.1"
  }
 },
 "nbformat": 4,
 "nbformat_minor": 5
}
